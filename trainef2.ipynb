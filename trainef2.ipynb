{
 "cells": [
  {
   "cell_type": "code",
   "execution_count": 172,
   "id": "2e00e795-ed6b-428d-96fb-4b892095aee3",
   "metadata": {},
   "outputs": [],
   "source": [
    "import numpy as np\n",
    "import pandas as pd\n",
    "data = pd.read_csv(\"TSLA_18_year_testing_signal.csv\")\n",
    "dt=data\n",
    "data.drop(data.columns[[0]],axis=1,inplace=True)\n",
    "window_size = int(len(data)/(8))\n",
    "splittrain = []\n",
    "splittest = [] \n",
    "for i in range(0, len(data)-5*window_size,window_size):\n",
    "    splittrain.append(data[i:i+5*window_size])\n",
    "    splittest.append(data[i+5*window_size:i+6*window_size])"
   ]
  },
  {
   "cell_type": "code",
   "execution_count": 173,
   "id": "9a971f59-88d4-4b81-9387-7e4032579360",
   "metadata": {},
   "outputs": [],
   "source": [
    "from scipy.optimize import NonlinearConstraint, Bounds, LinearConstraint\n",
    "import sympy as sp\n",
    "w1=sp.symbols('w1')\n",
    "w2=sp.symbols('w2')\n",
    "w3=sp.symbols('w3')\n",
    "w4=sp.symbols('w4')\n",
    "w5=sp.symbols('w5')\n",
    "w6=sp.symbols('w6')\n",
    "w7=sp.symbols('w7')\n",
    "w8=sp.symbols('w8')\n",
    "w9=sp.symbols('w9')\n",
    "w10=sp.symbols('w10')\n",
    "td=sp.symbols('td')"
   ]
  },
  {
   "cell_type": "code",
   "execution_count": 174,
   "id": "ebf1cd6f-426b-4d62-bd19-21c485153fb1",
   "metadata": {},
   "outputs": [],
   "source": [
    "def const(p):\n",
    "    w1,w2,w3,w4,w5,w6,w7,w8,w9,w10,td = p\n",
    "    return w1+w2+w3+w4+w5+w6+w7+w8+w9+w10\n",
    "nlc = NonlinearConstraint(const, 1 ,1)\n",
    "import numpy as np\n",
    "from scipy.optimize import differential_evolution\n",
    "from scipy.optimize import NonlinearConstraint, Bounds\n",
    "\n",
    "bounds = [[0, 1], [0, 1],[0, 1], [0, 1],[0, 1],[0, 1],[0, 1], [0, 1],[0, 1],[0,1],[0,0.3]]"
   ]
  },
  {
   "cell_type": "code",
   "execution_count": 182,
   "id": "0f9283c9-6be3-4b7b-a609-fd286cd75caa",
   "metadata": {},
   "outputs": [],
   "source": [
    "coll=[]\n",
    "\n",
    "def func(p):\n",
    "    global S,B,resl,resfl\n",
    "    S=0\n",
    "    B=0\n",
    "    resl=[]\n",
    "    resfl=[]\n",
    "    w1,w2,w3,w4,w5,w6,w7,w8,w9,w10,td = p\n",
    "    mon=100000\n",
    "    amount=0\n",
    "    for i in range(0,len(dfo)):\n",
    "        r = ((w1*sl1[i]+w2*sl2[i]+w3*sl3[i]+w4*sl4[i]+w5*sl5[i]+w6*sl6[i]+w7*sl7[i]+w8*sl8[i]+w9*sl9[i]+w10*sl10[i])/(w1+w2+w3+w4+w5+w6+w7+w8+w9+w10))#w1=sp.symbols('w1')\n",
    "        if i!=0:\n",
    "            if dfo['adj_close_price'][i]<dfo['adj_close_price'][i-1]*0.8:\n",
    "                mon+=amount*dfo['adj_close_price'][i]*0.998\n",
    "                amount=0\n",
    "        if r>td:\n",
    "            sumall=mon//dfo['adj_close_price'][i]\n",
    "            amount+=sumall\n",
    "            mon-=sumall*dfo['adj_close_price'][i]*1.002\n",
    "            B+=1\n",
    "        elif r<-td:\n",
    "            mon+=amount*dfo['adj_close_price'][i]*0.998\n",
    "            amount=0\n",
    "            S+=1\n",
    "        else:\n",
    "            pass\n",
    "    ret=mon+amount*dfo['adj_close_price'][len(dfo)-1]\n",
    "    return -((ret-100000)/1000)\n",
    "def fobj():\n",
    "    global sl1,sl2,sl3,sl4,sl5,sl6,sl7,sl8,sl9,sl10,dfo\n",
    "    for i in range(len(splittrain)):\n",
    "        dfo=splittrain[i]\n",
    "        dfo=dfo.reset_index()\n",
    "        sl1=dfo['sma89_signal']\n",
    "        sl2=dfo['obv_macd_signal']\n",
    "        sl3=dfo['cdc_signal']\n",
    "        sl4=dfo['rsi_signal']\n",
    "        sl5=dfo['renko_signal']\n",
    "        sl6=dfo['sar_signal']\n",
    "        sl7=dfo['macd_signal']\n",
    "        sl8=dfo['stoch_signal']\n",
    "        sl9=dfo['obv_renko_signal']\n",
    "        sl10=dfo['aroon_signal']\n",
    "        result = differential_evolution(func, bounds,constraints=(nlc),maxiter=1500,popsize=80,recombination=0.8) \n",
    "        coll.append([result.x,-result.fun,i])\n",
    "        print([result.x,-result.fun,i])\n",
    "        a=result.x\n",
    "        b=i\n",
    "        td=a[10]\n",
    "        w=a[0:10]\n",
    "        df=splittest[b]\n",
    "        decision_d_l=[]\n",
    "        il=[]\n",
    "        global count1,count2,count3,sell_idx,buy_idx\n",
    "        mon=100000\n",
    "        amount=0\n",
    "        sumall=0\n",
    "        df=df.reset_index()\n",
    "        sl1=df['sma89_signal']\n",
    "        sl2=df['obv_macd_signal']\n",
    "        sl3=df['cdc_signal']\n",
    "        sl4=df['rsi_signal']\n",
    "        sl5=df['renko_signal']\n",
    "        sl6=df['sar_signal']\n",
    "        sl7=df['macd_signal']\n",
    "        sl8=df['stoch_signal']\n",
    "        sl9=df['obv_renko_signal']\n",
    "        sl10=df['aroon_signal']\n",
    "\n",
    "        for i in range(0,len(df)):\n",
    "            decision_d= ((w[0]*sl1[i]+w[1]*sl2[i]+w[2]*sl3[i]+w[3]*sl4[i]+w[4]*sl5[i]+w[5]*sl6[i]+w[6]*sl7[i]+w[7]*sl8[i]+w[8]*sl9[i]+w[9]*sl10[i])/sum(w))\n",
    "            if i!=0:\n",
    "                if df['adj_close_price'][i]<df['adj_close_price'][i-1]*0.8:\n",
    "                        mon+=amount*df['Close'][i]*0.998\n",
    "                        amount=0\n",
    "                        sell_idx.append(i)\n",
    "            if decision_d>td:\n",
    "                sumall=mon//df['adj_close_price'][i]\n",
    "                amount+=sumall\n",
    "                mon-=sumall*df['adj_close_price'][i]*1.002\n",
    "                count1+=1\n",
    "                buy_idx.append(i)\n",
    "            elif decision_d<-td:\n",
    "                mon+=amount*df['adj_close_price'][i]*0.998\n",
    "                amount=0\n",
    "                count2+=1\n",
    "                sell_idx.append(i)\n",
    "            else:\n",
    "                count3+=1\n",
    "        decision_d_l.append(mon+amount*df['adj_close_price'][i])\n",
    "        il.append(i)\n",
    "        ret=mon+amount*df['adj_close_price'][len(df)-1]\n",
    "        stocknum=100000/dfo['adj_close_price'][0]\n",
    "        print(\"training\",(stocknum*(dfo['adj_close_price'][len(dfo)-1])+(100000-stocknum*dfo['adj_close_price'][0]))-100000)\n",
    "        stocknum=100000/df['adj_close_price'][0]\n",
    "        print(\"test\",(stocknum*(df['adj_close_price'][len(df)-1])+(100000-stocknum*df['adj_close_price'][0]))-100000)\n",
    "        print (\"TEST\",b,(ret-100000)/1000)\n",
    "\n",
    "        \n",
    "# def testinwindow(a,b):\n",
    "#     td=a[10]\n",
    "#     w=a[0:10]\n",
    "#     df=splittest[0]\n",
    "\n",
    "#     decision_d_l=[]\n",
    "#     il=[]\n",
    "#     global count1,count2,count3,sell_idx,buy_idx,sl1\n",
    "#     mon=100000\n",
    "#     amount=0\n",
    "#     sumall=0\n",
    "#     df=df.reset_index()\n",
    "#     sl1=df['sma89_signal']\n",
    "#     sl2=df['obv_macd_signal']\n",
    "#     sl3=df['cdc_signal']\n",
    "#     sl4=df['rsi_signal']\n",
    "#     sl5=df['renko_signal']\n",
    "#     sl6=df['sar_signal']\n",
    "#     sl7=df['macd_signal']\n",
    "#     sl8=df['stoch_signal']\n",
    "#     sl9=df['obv_renko_signal']\n",
    "#     sl10=df['aroon_signal']\n",
    "\n",
    "#     for i in range(0,len(df)):\n",
    "#         decision_d= ((w[0]*sl1[i]+w[1]*sl2[i]+w[2]*sl3[i]+w[3]*sl4[i]+w[4]*sl5[i]+w[5]*sl6[i]+w[6]*sl7[i]+w[7]*sl8[i]+w[8]*sl9[i]+w[9]*sl10[i])/sum(w))\n",
    "#         if i!=0:\n",
    "#             if df['adj_close_price'][i]<df['adj_close_price'][i-1]*0.8:\n",
    "#                     mon+=amount*df['Close'][i]*0.998\n",
    "#                     amount=0\n",
    "#                     sell_idx.append(i)\n",
    "#         if decision_d>td:\n",
    "#             sumall=mon//df['adj_close_price'][i]\n",
    "#             amount+=sumall\n",
    "#             mon-=sumall*df['adj_close_price'][i]*1.002\n",
    "#             count1+=1\n",
    "#             buy_idx.append(i)\n",
    "#         elif decision_d<-td:\n",
    "#             mon+=amount*df['adj_close_price'][i]*0.998\n",
    "#             amount=0\n",
    "#             count2+=1\n",
    "#             sell_idx.append(i)\n",
    "#         else:\n",
    "#             count3+=1\n",
    "#     decision_d_l.append(mon+amount*df['adj_close_price'][i])\n",
    "#     il.append(i)\n",
    "#     ret=mon+amount*df['adj_close_price'][len(df)-1]\n",
    "#     print ((\"TEST\",b,ret-100000)/1000)\n"
   ]
  },
  {
   "cell_type": "code",
   "execution_count": null,
   "id": "a5ab617a-c509-42b0-ae09-d0603cf01574",
   "metadata": {},
   "outputs": [],
   "source": [
    "fobj()"
   ]
  },
  {
   "cell_type": "code",
   "execution_count": 27,
   "id": "49519c92-4e67-479e-b690-9e4a26af2c2e",
   "metadata": {},
   "outputs": [],
   "source": [
    "# coll=[[[0.08492177, 0.17384463, 0.01297783, 0.02911209, 0.00305128,\n",
    "#        0.29679029, 0.09341777, 0.03109278, 0.2669813 , 0.00781026,\n",
    "#        0.15002345], 77.78606595899961, 0],[[0.10124751, 0.07947271, 0.14059461, 0.01134871, 0.07670483,\n",
    "#        0.0105102 , 0.01523628, 0.0793311 , 0.32688289, 0.15867116,\n",
    "#        0.16469997], 29.423729452217085, 1],[[0.10424396, 0.04083642, 0.14153184, 0.04832486, 0.02425143,\n",
    "#        0.23456657, 0.01785653, 0.04702162, 0.1687655 , 0.17260126,\n",
    "#        0.23068131], 20.744831571363452, 2],[[0.03418246, 0.03985494, 0.05818124, 0.01006821, 0.05736128,\n",
    "#        0.51578311, 0.04809931, 0.05745843, 0.05766466, 0.12134635,\n",
    "#        0.13210764], 17.658730539011014, 3],[[0.04441311, 0.00105711, 0.10547514, 0.24048136, 0.00218894,\n",
    "#        0.03192681, 0.0093497 , 0.09019205, 0.3072222 , 0.16769358,\n",
    "#        0.2397252 ], 38.12829733082201, 4],[[0.15608604, 0.46143613, 0.02077728, 0.15747731, 0.00652082,\n",
    "#        0.03187775, 0.00144456, 0.02996531, 0.12415056, 0.01026426,\n",
    "#        0.05789345], 34.24385590455824, 5],[[0.03761342, 0.34845239, 0.11776582, 0.00239228, 0.03168897,\n",
    "#        0.02931779, 0.15102881, 0.08606771, 0.11747511, 0.07819771,\n",
    "#        0.18479926], 27.365418176465987, 6],[[0.03660642, 0.05033639, 0.12932883, 0.07908549, 0.01884995,\n",
    "#        0.00878074, 0.15192304, 0.25559357, 0.00167098, 0.2678246 ,\n",
    "#        0.22253394], 48.53843252603145, 7],[[0.00772096, 0.47030788, 0.07248883, 0.04361143, 0.25529928,\n",
    "#        0.04781215, 0.00984386, 0.00458237, 0.02302817, 0.06530506,\n",
    "#        0.11147168], 92.85205689248085, 8],[[0.02404885, 0.11613386, 0.04691288, 0.15394344, 0.01931855,\n",
    "#        0.0351663 , 0.15083233, 0.02116866, 0.27700484, 0.15547028,\n",
    "#        0.28969039], 78.26595460097695, 9]]"
   ]
  },
  {
   "cell_type": "code",
   "execution_count": 146,
   "id": "2a2a189b-b0fe-4da2-9959-554286af0a74",
   "metadata": {},
   "outputs": [
    {
     "data": {
      "text/plain": [
       "8.7122626862755"
      ]
     },
     "execution_count": 146,
     "metadata": {},
     "output_type": "execute_result"
    }
   ],
   "source": [
    "#test\n",
    "import pandas as pd\n",
    "sums=0\n",
    "listna=[]\n",
    "for j in range(0,11): #เเต่ละ signal \n",
    "    for i in range(0,10): #เเต่ละ data\n",
    "        sums+=coll[i][0][j]\n",
    "    sums=sums/10\n",
    "    listna.append(sums)\n",
    "tdna=listna[10]\n",
    "w=listna[0:10]\n",
    "dfo=pd.read_csv('TSLA_1417_year_testing_signal.csv')\n",
    "count1,count2,count3=0,0,0\n",
    "decision_d_l=[]\n",
    "il=[]\n",
    "sell_idx,buy_idx=[],[]\n",
    "def testing(td,w,df):\n",
    "    global count1,count2,count3,sell_idx,buy_idx,sl1\n",
    "    mon=100000\n",
    "    amount=0\n",
    "    sumall=0\n",
    "    sl1=dfo['sma89_signal']\n",
    "    sl2=dfo['obv_macd_signal']\n",
    "    sl3=dfo['cdc_signal']\n",
    "    sl4=dfo['rsi_signal']\n",
    "    sl5=dfo['renko_signal']\n",
    "    sl6=dfo['sar_signal']\n",
    "    sl7=dfo['macd_signal']\n",
    "    sl8=dfo['stoch_signal']\n",
    "    sl9=dfo['obv_renko_signal']\n",
    "    sl10=dfo['aroon_signal']\n",
    "    \n",
    "    for i in range(0,len(df)):\n",
    "        decision_d= ((w[0]*sl1[i]+w[1]*sl2[i]+w[2]*sl3[i]+w[3]*sl4[i]+w[4]*sl5[i]+w[5]*sl6[i]+w[6]*sl7[i]+w[7]*sl8[i]+w[8]*sl9[i]+w[9]*sl10[i])/sum(w))\n",
    "        if i!=0:\n",
    "            if df['adj_close_price'][i]<df['adj_close_price'][i-1]*0.8:\n",
    "                    mon+=amount*dfo['Close'][i]*0.998\n",
    "                    amount=0\n",
    "                    sell_idx.append(i)\n",
    "        if decision_d>td:\n",
    "            sumall=mon//df['adj_close_price'][i]\n",
    "            amount+=sumall\n",
    "            mon-=sumall*df['adj_close_price'][i]*1.002\n",
    "            count1+=1\n",
    "            buy_idx.append(i)\n",
    "        elif decision_d<-td:\n",
    "            mon+=amount*df['adj_close_price'][i]*0.998\n",
    "            amount=0\n",
    "            count2+=1\n",
    "            sell_idx.append(i)\n",
    "        else:\n",
    "            count3+=1\n",
    "        decision_d_l.append(mon+amount*df['adj_close_price'][i])\n",
    "        il.append(i)\n",
    "    ret=mon+amount*df['adj_close_price'][len(df)-1]\n",
    "    return (ret-100000)/1000\n",
    "testing(tdna,w,dfo)"
   ]
  },
  {
   "cell_type": "code",
   "execution_count": 147,
   "id": "4cf6d793-c596-48c6-8f0e-302e397d5ac2",
   "metadata": {},
   "outputs": [
    {
     "data": {
      "text/plain": [
       "107.4283664979756"
      ]
     },
     "execution_count": 147,
     "metadata": {},
     "output_type": "execute_result"
    }
   ],
   "source": [
    "(dfo['adj_close_price'][len(dfo)-1]-dfo['adj_close_price'][0])/dfo['adj_close_price'][0]*100"
   ]
  },
  {
   "cell_type": "code",
   "execution_count": 150,
   "id": "ba5b7298-b37a-4c12-a1fd-271495f646f5",
   "metadata": {},
   "outputs": [
    {
     "data": {
      "text/plain": [
       "-3.8563480945091433"
      ]
     },
     "execution_count": 150,
     "metadata": {},
     "output_type": "execute_result"
    }
   ],
   "source": [
    "#test\n",
    "import pandas as pd\n",
    "sums=0\n",
    "listna=[]\n",
    "for j in range(0,11): #เเต่ละ signal \n",
    "    for i in range(0,10): #เเต่ละ data\n",
    "        sums+=coll[i][0][j]\n",
    "    sums=sums/10\n",
    "    listna.append(sums)\n",
    "tdna=listna[10]\n",
    "w=listna[0:10]\n",
    "dfo=pd.read_csv('TSLA_18_year_testing_signal.csv')\n",
    "count1,count2,count3=0,0,0\n",
    "decision_d_l=[]\n",
    "il=[]\n",
    "sell_idx,buy_idx=[],[]\n",
    "def testing(td,w,df):\n",
    "    global count1,count2,count3,sell_idx,buy_idx,sl1\n",
    "    mon=100000\n",
    "    amount=0\n",
    "    sumall=0\n",
    "    sl1=dfo['sma89_signal']\n",
    "    sl2=dfo['obv_macd_signal']\n",
    "    sl3=dfo['cdc_signal']\n",
    "    sl4=dfo['rsi_signal']\n",
    "    sl5=dfo['renko_signal']\n",
    "    sl6=dfo['sar_signal']\n",
    "    sl7=dfo['macd_signal']\n",
    "    sl8=dfo['stoch_signal']\n",
    "    sl9=dfo['obv_renko_signal']\n",
    "    sl10=dfo['aroon_signal']\n",
    "    \n",
    "    for i in range(0,len(df)):\n",
    "        decision_d= ((w[0]*sl1[i]+w[1]*sl2[i]+w[2]*sl3[i]+w[3]*sl4[i]+w[4]*sl5[i]+w[5]*sl6[i]+w[6]*sl7[i]+w[7]*sl8[i]+w[8]*sl9[i]+w[9]*sl10[i])/sum(w))\n",
    "        if i!=0:\n",
    "            if df['adj_close_price'][i]<df['adj_close_price'][i-1]*0.8:\n",
    "                    mon+=amount*dfo['Close'][i]*0.998\n",
    "                    amount=0\n",
    "                    sell_idx.append(i)\n",
    "        if decision_d>td:\n",
    "            sumall=mon//df['adj_close_price'][i]\n",
    "            amount+=sumall\n",
    "            mon-=sumall*df['adj_close_price'][i]*1.002\n",
    "            count1+=1\n",
    "            buy_idx.append(i)\n",
    "        elif decision_d<-td:\n",
    "            mon+=amount*df['adj_close_price'][i]*0.998\n",
    "            amount=0\n",
    "            count2+=1\n",
    "            sell_idx.append(i)\n",
    "        else:\n",
    "            count3+=1\n",
    "        decision_d_l.append(mon+amount*df['adj_close_price'][i])\n",
    "        il.append(i)\n",
    "    ret=mon+amount*df['adj_close_price'][len(df)-1]\n",
    "    return (ret-100000)/1000\n",
    "testing(tdna,w,dfo)"
   ]
  },
  {
   "cell_type": "code",
   "execution_count": 149,
   "id": "c2f90ae8-fff7-4842-911a-9322d1bb56e6",
   "metadata": {},
   "outputs": [
    {
     "data": {
      "text/plain": [
       "4.161849649068813"
      ]
     },
     "execution_count": 149,
     "metadata": {},
     "output_type": "execute_result"
    }
   ],
   "source": [
    "(dfo['adj_close_price'][len(dfo)-1]-dfo['adj_close_price'][0])/dfo['adj_close_price'][0]*100"
   ]
  },
  {
   "cell_type": "code",
   "execution_count": 151,
   "id": "02c01e65-f0c8-4c17-a70c-af71b383b6b5",
   "metadata": {},
   "outputs": [
    {
     "data": {
      "text/plain": [
       "[0.05171901078056007,\n",
       " 0.09168125927799935,\n",
       " 0.0635959532800144,\n",
       " 0.19770249244774873,\n",
       " 0.06882487224742326,\n",
       " 0.12934489843397567,\n",
       " 0.07462249921901046,\n",
       " 0.14327630557640067,\n",
       " 0.14077705830467716,\n",
       " 0.1346100853889713,\n",
       " 0.1493072239607629]"
      ]
     },
     "execution_count": 151,
     "metadata": {},
     "output_type": "execute_result"
    }
   ],
   "source": [
    "listna"
   ]
  },
  {
   "cell_type": "code",
   "execution_count": 63,
   "id": "a9a8127d-2a49-483c-8ce4-00492bc8b3b4",
   "metadata": {},
   "outputs": [
    {
     "data": {
      "text/plain": [
       "[0.03418788291218656,\n",
       " 0.03149076244234548,\n",
       " 0.15037019569028254,\n",
       " 0.1325433769862197,\n",
       " 0.14793535036282862,\n",
       " 0.08853880692902165,\n",
       " 0.09635943910162295,\n",
       " 0.12403901528853958,\n",
       " 0.12794771591086848,\n",
       " 0.15992870893847594,\n",
       " 0.19253667530824434]"
      ]
     },
     "execution_count": 63,
     "metadata": {},
     "output_type": "execute_result"
    }
   ],
   "source": [
    "listna"
   ]
  },
  {
   "cell_type": "code",
   "execution_count": null,
   "id": "b26db68f-19b9-41bb-9200-4b03b2e37b07",
   "metadata": {},
   "outputs": [],
   "source": [
    "#BH 16 107.4283664979756\n",
    "#back 16 110.85032925866324\n",
    "#BH 4.161849649068813\n",
    "#Forward 0"
   ]
  },
  {
   "cell_type": "code",
   "execution_count": 16,
   "id": "ede9f3fd-15e9-4a3f-ad47-22f5f4056789",
   "metadata": {},
   "outputs": [],
   "source": [
    "listna=[0.07209369806093725,\n",
    " 0.07185038480865677,\n",
    " 0.07605418723127022,\n",
    " 0.046688922200022735,\n",
    " 0.05800967858322942,\n",
    " 0.20641780081608485,\n",
    " 0.13221615163816813,\n",
    " 0.17658586648082206,\n",
    " 0.13257461186240724,\n",
    " 0.12475782848656121,\n",
    " 0.23315362570785392]"
   ]
  },
  {
   "cell_type": "code",
   "execution_count": null,
   "id": "865be1c6-46e6-467b-9398-e84930423f0c",
   "metadata": {},
   "outputs": [],
   "source": []
  },
  {
   "cell_type": "code",
   "execution_count": 170,
   "id": "6f4cce53-58a8-468e-b87b-b0f61c762b19",
   "metadata": {},
   "outputs": [
    {
     "ename": "NameError",
     "evalue": "name 'b' is not defined",
     "output_type": "error",
     "traceback": [
      "\u001b[1;31m---------------------------------------------------------------------------\u001b[0m",
      "\u001b[1;31mNameError\u001b[0m                                 Traceback (most recent call last)",
      "Input \u001b[1;32mIn [170]\u001b[0m, in \u001b[0;36m<cell line: 57>\u001b[1;34m()\u001b[0m\n\u001b[0;32m     55\u001b[0m il\u001b[38;5;241m.\u001b[39mappend(i)\n\u001b[0;32m     56\u001b[0m ret\u001b[38;5;241m=\u001b[39mmon\u001b[38;5;241m+\u001b[39mamount\u001b[38;5;241m*\u001b[39mdf[\u001b[38;5;124m'\u001b[39m\u001b[38;5;124madj_close_price\u001b[39m\u001b[38;5;124m'\u001b[39m][\u001b[38;5;28mlen\u001b[39m(df)\u001b[38;5;241m-\u001b[39m\u001b[38;5;241m1\u001b[39m]\n\u001b[1;32m---> 57\u001b[0m \u001b[38;5;28mprint\u001b[39m ((\u001b[38;5;124m\"\u001b[39m\u001b[38;5;124mTEST\u001b[39m\u001b[38;5;124m\"\u001b[39m,\u001b[43mb\u001b[49m,ret\u001b[38;5;241m-\u001b[39m\u001b[38;5;241m100000\u001b[39m)\u001b[38;5;241m/\u001b[39m\u001b[38;5;241m1000\u001b[39m)\n",
      "\u001b[1;31mNameError\u001b[0m: name 'b' is not defined"
     ]
    }
   ],
   "source": [
    "a=[0.07209369806093725,\n",
    " 0.07185038480865677,\n",
    " 0.07605418723127022,\n",
    " 0.046688922200022735,\n",
    " 0.05800967858322942,\n",
    " 0.20641780081608485,\n",
    " 0.13221615163816813,\n",
    " 0.17658586648082206,\n",
    " 0.13257461186240724,\n",
    " 0.12475782848656121,\n",
    " 0.23315362570785392]\n",
    "td=a[10]\n",
    "w=a[0:10]\n",
    "df=splittest[0]\n",
    "\n",
    "decision_d_l=[]\n",
    "il=[]\n",
    "global count1,count2,count3,sell_idx,buy_idx,sl1\n",
    "mon=100000\n",
    "amount=0\n",
    "sumall=0\n",
    "df=df.reset_index()\n",
    "sl1=df['sma89_signal']\n",
    "sl2=df['obv_macd_signal']\n",
    "sl3=df['cdc_signal']\n",
    "sl4=df['rsi_signal']\n",
    "sl5=df['renko_signal']\n",
    "sl6=df['sar_signal']\n",
    "sl7=df['macd_signal']\n",
    "sl8=df['stoch_signal']\n",
    "sl9=df['obv_renko_signal']\n",
    "sl10=df['aroon_signal']\n",
    "\n",
    "for i in range(0,len(df)):\n",
    "    decision_d= ((w[0]*sl1[i]+w[1]*sl2[i]+w[2]*sl3[i]+w[3]*sl4[i]+w[4]*sl5[i]+w[5]*sl6[i]+w[6]*sl7[i]+w[7]*sl8[i]+w[8]*sl9[i]+w[9]*sl10[i])/sum(w))\n",
    "    if i!=0:\n",
    "        if df['adj_close_price'][i]<df['adj_close_price'][i-1]*0.8:\n",
    "                mon+=amount*df['Close'][i]*0.998\n",
    "                amount=0\n",
    "                sell_idx.append(i)\n",
    "    if decision_d>td:\n",
    "        sumall=mon//df['adj_close_price'][i]\n",
    "        amount+=sumall\n",
    "        mon-=sumall*df['adj_close_price'][i]*1.002\n",
    "        count1+=1\n",
    "        buy_idx.append(i)\n",
    "    elif decision_d<-td:\n",
    "        mon+=amount*df['adj_close_price'][i]*0.998\n",
    "        amount=0\n",
    "        count2+=1\n",
    "        sell_idx.append(i)\n",
    "    else:\n",
    "        count3+=1\n",
    "decision_d_l.append(mon+amount*df['adj_close_price'][i])\n",
    "il.append(i)\n",
    "ret=mon+amount*df['adj_close_price'][len(df)-1]\n",
    "print ((\"TEST\",b,ret-100000)/1000)"
   ]
  },
  {
   "cell_type": "code",
   "execution_count": 168,
   "id": "5bb198f8-f8ad-44aa-bd36-cc615dc8a174",
   "metadata": {},
   "outputs": [
    {
     "data": {
      "text/plain": [
       "155    1\n",
       "156    1\n",
       "157    1\n",
       "158   -1\n",
       "159   -1\n",
       "160    1\n",
       "161    1\n",
       "162    1\n",
       "163    1\n",
       "164    1\n",
       "165   -1\n",
       "166   -1\n",
       "167   -1\n",
       "168   -1\n",
       "169   -1\n",
       "170   -1\n",
       "171   -1\n",
       "172   -1\n",
       "173   -1\n",
       "174   -1\n",
       "175   -1\n",
       "176   -1\n",
       "177   -1\n",
       "178   -1\n",
       "179   -1\n",
       "180   -1\n",
       "181   -1\n",
       "182   -1\n",
       "183   -1\n",
       "184   -1\n",
       "185   -1\n",
       "Name: sma89_signal, dtype: int64"
      ]
     },
     "execution_count": 168,
     "metadata": {},
     "output_type": "execute_result"
    }
   ],
   "source": [
    "sl1"
   ]
  },
  {
   "cell_type": "code",
   "execution_count": null,
   "id": "a2431c56-d266-4453-9884-bcab0a061eed",
   "metadata": {},
   "outputs": [],
   "source": []
  }
 ],
 "metadata": {
  "kernelspec": {
   "display_name": "Python 3 (ipykernel)",
   "language": "python",
   "name": "python3"
  },
  "language_info": {
   "codemirror_mode": {
    "name": "ipython",
    "version": 3
   },
   "file_extension": ".py",
   "mimetype": "text/x-python",
   "name": "python",
   "nbconvert_exporter": "python",
   "pygments_lexer": "ipython3",
   "version": "3.9.12"
  }
 },
 "nbformat": 4,
 "nbformat_minor": 5
}
