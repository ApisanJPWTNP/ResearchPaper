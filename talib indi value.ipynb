{
 "cells": [
  {
   "cell_type": "code",
   "execution_count": 1,
   "id": "da4fbf55",
   "metadata": {
    "scrolled": true
   },
   "outputs": [
    {
     "name": "stdout",
     "output_type": "stream",
     "text": [
      "Requirement already satisfied: yfinance in c:\\users\\windows 11\\anaconda3\\lib\\site-packages (0.1.72)\n",
      "Requirement already satisfied: requests>=2.26 in c:\\users\\windows 11\\anaconda3\\lib\\site-packages (from yfinance) (2.26.0)\n",
      "Requirement already satisfied: multitasking>=0.0.7 in c:\\users\\windows 11\\anaconda3\\lib\\site-packages (from yfinance) (0.0.10)\n",
      "Requirement already satisfied: numpy>=1.15 in c:\\users\\windows 11\\anaconda3\\lib\\site-packages (from yfinance) (1.20.3)\n",
      "Requirement already satisfied: pandas>=0.24.0 in c:\\users\\windows 11\\anaconda3\\lib\\site-packages (from yfinance) (1.3.4)\n",
      "Requirement already satisfied: lxml>=4.5.1 in c:\\users\\windows 11\\anaconda3\\lib\\site-packages (from yfinance) (4.6.3)\n",
      "Requirement already satisfied: pytz>=2017.3 in c:\\users\\windows 11\\anaconda3\\lib\\site-packages (from pandas>=0.24.0->yfinance) (2021.3)\n",
      "Requirement already satisfied: python-dateutil>=2.7.3 in c:\\users\\windows 11\\anaconda3\\lib\\site-packages (from pandas>=0.24.0->yfinance) (2.8.2)\n",
      "Requirement already satisfied: six>=1.5 in c:\\users\\windows 11\\anaconda3\\lib\\site-packages (from python-dateutil>=2.7.3->pandas>=0.24.0->yfinance) (1.16.0)\n",
      "Requirement already satisfied: idna<4,>=2.5 in c:\\users\\windows 11\\anaconda3\\lib\\site-packages (from requests>=2.26->yfinance) (3.2)\n",
      "Requirement already satisfied: certifi>=2017.4.17 in c:\\users\\windows 11\\anaconda3\\lib\\site-packages (from requests>=2.26->yfinance) (2021.10.8)\n",
      "Requirement already satisfied: charset-normalizer~=2.0.0 in c:\\users\\windows 11\\anaconda3\\lib\\site-packages (from requests>=2.26->yfinance) (2.0.4)\n",
      "Requirement already satisfied: urllib3<1.27,>=1.21.1 in c:\\users\\windows 11\\anaconda3\\lib\\site-packages (from requests>=2.26->yfinance) (1.26.7)\n"
     ]
    }
   ],
   "source": [
    "!pip install yfinance"
   ]
  },
  {
   "cell_type": "code",
   "execution_count": 2,
   "id": "c09b974f",
   "metadata": {},
   "outputs": [],
   "source": [
    "import talib"
   ]
  },
  {
   "cell_type": "code",
   "execution_count": 3,
   "id": "fd088b75",
   "metadata": {},
   "outputs": [],
   "source": [
    "import yfinance as yf"
   ]
  },
  {
   "cell_type": "code",
   "execution_count": 14,
   "id": "e447ef96",
   "metadata": {},
   "outputs": [
    {
     "name": "stdout",
     "output_type": "stream",
     "text": [
      "[*********************100%***********************]  1 of 1 completed\n"
     ]
    },
    {
     "data": {
      "text/html": [
       "<div>\n",
       "<style scoped>\n",
       "    .dataframe tbody tr th:only-of-type {\n",
       "        vertical-align: middle;\n",
       "    }\n",
       "\n",
       "    .dataframe tbody tr th {\n",
       "        vertical-align: top;\n",
       "    }\n",
       "\n",
       "    .dataframe thead th {\n",
       "        text-align: right;\n",
       "    }\n",
       "</style>\n",
       "<table border=\"1\" class=\"dataframe\">\n",
       "  <thead>\n",
       "    <tr style=\"text-align: right;\">\n",
       "      <th></th>\n",
       "      <th>Open</th>\n",
       "      <th>High</th>\n",
       "      <th>Low</th>\n",
       "      <th>Close</th>\n",
       "      <th>Adj Close</th>\n",
       "      <th>Volume</th>\n",
       "    </tr>\n",
       "    <tr>\n",
       "      <th>Date</th>\n",
       "      <th></th>\n",
       "      <th></th>\n",
       "      <th></th>\n",
       "      <th></th>\n",
       "      <th></th>\n",
       "      <th></th>\n",
       "    </tr>\n",
       "  </thead>\n",
       "  <tbody>\n",
       "    <tr>\n",
       "      <th>1980-12-12</th>\n",
       "      <td>0.128348</td>\n",
       "      <td>0.128906</td>\n",
       "      <td>0.128348</td>\n",
       "      <td>0.128348</td>\n",
       "      <td>0.100178</td>\n",
       "      <td>469033600</td>\n",
       "    </tr>\n",
       "    <tr>\n",
       "      <th>1980-12-15</th>\n",
       "      <td>0.122210</td>\n",
       "      <td>0.122210</td>\n",
       "      <td>0.121652</td>\n",
       "      <td>0.121652</td>\n",
       "      <td>0.094952</td>\n",
       "      <td>175884800</td>\n",
       "    </tr>\n",
       "    <tr>\n",
       "      <th>1980-12-16</th>\n",
       "      <td>0.113281</td>\n",
       "      <td>0.113281</td>\n",
       "      <td>0.112723</td>\n",
       "      <td>0.112723</td>\n",
       "      <td>0.087983</td>\n",
       "      <td>105728000</td>\n",
       "    </tr>\n",
       "    <tr>\n",
       "      <th>1980-12-17</th>\n",
       "      <td>0.115513</td>\n",
       "      <td>0.116071</td>\n",
       "      <td>0.115513</td>\n",
       "      <td>0.115513</td>\n",
       "      <td>0.090160</td>\n",
       "      <td>86441600</td>\n",
       "    </tr>\n",
       "    <tr>\n",
       "      <th>1980-12-18</th>\n",
       "      <td>0.118862</td>\n",
       "      <td>0.119420</td>\n",
       "      <td>0.118862</td>\n",
       "      <td>0.118862</td>\n",
       "      <td>0.092774</td>\n",
       "      <td>73449600</td>\n",
       "    </tr>\n",
       "    <tr>\n",
       "      <th>...</th>\n",
       "      <td>...</td>\n",
       "      <td>...</td>\n",
       "      <td>...</td>\n",
       "      <td>...</td>\n",
       "      <td>...</td>\n",
       "      <td>...</td>\n",
       "    </tr>\n",
       "    <tr>\n",
       "      <th>2022-06-15</th>\n",
       "      <td>134.289993</td>\n",
       "      <td>137.339996</td>\n",
       "      <td>132.160004</td>\n",
       "      <td>135.429993</td>\n",
       "      <td>135.429993</td>\n",
       "      <td>91533000</td>\n",
       "    </tr>\n",
       "    <tr>\n",
       "      <th>2022-06-16</th>\n",
       "      <td>132.080002</td>\n",
       "      <td>132.389999</td>\n",
       "      <td>129.039993</td>\n",
       "      <td>130.059998</td>\n",
       "      <td>130.059998</td>\n",
       "      <td>108123900</td>\n",
       "    </tr>\n",
       "    <tr>\n",
       "      <th>2022-06-17</th>\n",
       "      <td>130.070007</td>\n",
       "      <td>133.080002</td>\n",
       "      <td>129.809998</td>\n",
       "      <td>131.559998</td>\n",
       "      <td>131.559998</td>\n",
       "      <td>134118500</td>\n",
       "    </tr>\n",
       "    <tr>\n",
       "      <th>2022-06-21</th>\n",
       "      <td>133.419998</td>\n",
       "      <td>137.059998</td>\n",
       "      <td>133.320007</td>\n",
       "      <td>135.869995</td>\n",
       "      <td>135.869995</td>\n",
       "      <td>80785400</td>\n",
       "    </tr>\n",
       "    <tr>\n",
       "      <th>2022-06-22</th>\n",
       "      <td>134.789993</td>\n",
       "      <td>137.755005</td>\n",
       "      <td>133.910004</td>\n",
       "      <td>136.919998</td>\n",
       "      <td>136.919998</td>\n",
       "      <td>24934524</td>\n",
       "    </tr>\n",
       "  </tbody>\n",
       "</table>\n",
       "<p>10470 rows × 6 columns</p>\n",
       "</div>"
      ],
      "text/plain": [
       "                  Open        High         Low       Close   Adj Close  \\\n",
       "Date                                                                     \n",
       "1980-12-12    0.128348    0.128906    0.128348    0.128348    0.100178   \n",
       "1980-12-15    0.122210    0.122210    0.121652    0.121652    0.094952   \n",
       "1980-12-16    0.113281    0.113281    0.112723    0.112723    0.087983   \n",
       "1980-12-17    0.115513    0.116071    0.115513    0.115513    0.090160   \n",
       "1980-12-18    0.118862    0.119420    0.118862    0.118862    0.092774   \n",
       "...                ...         ...         ...         ...         ...   \n",
       "2022-06-15  134.289993  137.339996  132.160004  135.429993  135.429993   \n",
       "2022-06-16  132.080002  132.389999  129.039993  130.059998  130.059998   \n",
       "2022-06-17  130.070007  133.080002  129.809998  131.559998  131.559998   \n",
       "2022-06-21  133.419998  137.059998  133.320007  135.869995  135.869995   \n",
       "2022-06-22  134.789993  137.755005  133.910004  136.919998  136.919998   \n",
       "\n",
       "               Volume  \n",
       "Date                   \n",
       "1980-12-12  469033600  \n",
       "1980-12-15  175884800  \n",
       "1980-12-16  105728000  \n",
       "1980-12-17   86441600  \n",
       "1980-12-18   73449600  \n",
       "...               ...  \n",
       "2022-06-15   91533000  \n",
       "2022-06-16  108123900  \n",
       "2022-06-17  134118500  \n",
       "2022-06-21   80785400  \n",
       "2022-06-22   24934524  \n",
       "\n",
       "[10470 rows x 6 columns]"
      ]
     },
     "execution_count": 14,
     "metadata": {},
     "output_type": "execute_result"
    }
   ],
   "source": [
    "start=\"2020-01-01\"\n",
    "end=\"2021-01-01\"\n",
    "data_1=yf.download(\"AAPL\")\n",
    "data_1"
   ]
  },
  {
   "cell_type": "code",
   "execution_count": 7,
   "id": "1e8e992f",
   "metadata": {},
   "outputs": [
    {
     "data": {
      "text/plain": [
       "Date\n",
       "2018-12-31          NaN\n",
       "2019-01-02          NaN\n",
       "2019-01-03          NaN\n",
       "2019-01-04          NaN\n",
       "2019-01-07          NaN\n",
       "                ...    \n",
       "2019-12-24    74.436585\n",
       "2019-12-26    78.678994\n",
       "2019-12-27    78.405656\n",
       "2019-12-30    79.598963\n",
       "2019-12-31    80.999258\n",
       "Length: 253, dtype: float64"
      ]
     },
     "execution_count": 7,
     "metadata": {},
     "output_type": "execute_result"
    }
   ],
   "source": [
    "real = talib.RSI(data_1['Close'], timeperiod=14)\n",
    "real"
   ]
  },
  {
   "cell_type": "code",
   "execution_count": 11,
   "id": "ece2fef0",
   "metadata": {},
   "outputs": [
    {
     "data": {
      "text/plain": [
       "Date\n",
       "2019-12-31           NaN\n",
       "2020-01-02           NaN\n",
       "2020-01-03           NaN\n",
       "2020-01-06           NaN\n",
       "2020-01-07           NaN\n",
       "                 ...    \n",
       "2020-12-24    122.509333\n",
       "2020-12-28    123.092000\n",
       "2020-12-29    123.612333\n",
       "2020-12-30    124.059666\n",
       "2020-12-31    124.503000\n",
       "Length: 254, dtype: float64"
      ]
     },
     "execution_count": 11,
     "metadata": {},
     "output_type": "execute_result"
    }
   ],
   "source": [
    "real_2 = talib.MA(data_1['Close'], timeperiod=30, matype=0)\n",
    "real_2"
   ]
  },
  {
   "cell_type": "code",
   "execution_count": 15,
   "id": "079b1706",
   "metadata": {},
   "outputs": [
    {
     "data": {
      "text/plain": [
       "(Date\n",
       " 1980-12-12         NaN\n",
       " 1980-12-15         NaN\n",
       " 1980-12-16         NaN\n",
       " 1980-12-17         NaN\n",
       " 1980-12-18         NaN\n",
       "                 ...   \n",
       " 2022-06-15   -4.470449\n",
       " 2022-06-16   -4.970464\n",
       " 2022-06-17   -5.185911\n",
       " 2022-06-21   -4.951793\n",
       " 2022-06-22   -4.628176\n",
       " Length: 10470, dtype: float64,\n",
       " Date\n",
       " 1980-12-12         NaN\n",
       " 1980-12-15         NaN\n",
       " 1980-12-16         NaN\n",
       " 1980-12-17         NaN\n",
       " 1980-12-18         NaN\n",
       "                 ...   \n",
       " 2022-06-15   -3.689046\n",
       " 2022-06-16   -3.945329\n",
       " 2022-06-17   -4.193446\n",
       " 2022-06-21   -4.345115\n",
       " 2022-06-22   -4.401727\n",
       " Length: 10470, dtype: float64,\n",
       " Date\n",
       " 1980-12-12         NaN\n",
       " 1980-12-15         NaN\n",
       " 1980-12-16         NaN\n",
       " 1980-12-17         NaN\n",
       " 1980-12-18         NaN\n",
       "                 ...   \n",
       " 2022-06-15   -0.781403\n",
       " 2022-06-16   -1.025134\n",
       " 2022-06-17   -0.992465\n",
       " 2022-06-21   -0.606678\n",
       " 2022-06-22   -0.226448\n",
       " Length: 10470, dtype: float64)"
      ]
     },
     "execution_count": 15,
     "metadata": {},
     "output_type": "execute_result"
    }
   ],
   "source": [
    "macd, macdsignal, macdhist = talib.MACD(data_1['Close'], fastperiod=12, slowperiod=26, signalperiod=9)\n",
    "macd"
   ]
  },
  {
   "cell_type": "code",
   "execution_count": null,
   "id": "d053bb0d",
   "metadata": {},
   "outputs": [],
   "source": []
  }
 ],
 "metadata": {
  "kernelspec": {
   "display_name": "Python 3 (ipykernel)",
   "language": "python",
   "name": "python3"
  },
  "language_info": {
   "codemirror_mode": {
    "name": "ipython",
    "version": 3
   },
   "file_extension": ".py",
   "mimetype": "text/x-python",
   "name": "python",
   "nbconvert_exporter": "python",
   "pygments_lexer": "ipython3",
   "version": "3.9.7"
  }
 },
 "nbformat": 4,
 "nbformat_minor": 5
}
