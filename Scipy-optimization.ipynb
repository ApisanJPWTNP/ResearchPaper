{
 "cells": [
  {
   "cell_type": "code",
   "execution_count": 23,
   "id": "8cce62d2",
   "metadata": {},
   "outputs": [],
   "source": [
    "import scipy\n",
    "import numpy as np\n",
    "from scipy.optimize import minimize"
   ]
  },
  {
   "cell_type": "code",
   "execution_count": 24,
   "id": "d32f6f78",
   "metadata": {},
   "outputs": [],
   "source": [
    "def obj_func(x):\n",
    "    x1=x[0]\n",
    "    x2=x[1]\n",
    "    x3=x[2]\n",
    "    x4=x[3]\n",
    "    return x1*x4*(x1+x2+x3)+x3\n",
    "def con1(x):\n",
    "    return x[0]*x[1]*x[2]*x[3]-25\n",
    "def con2(x):\n",
    "    sum_sq=40\n",
    "    for i in range(4):\n",
    "        sum_sq=sum_sq-x[i]**2\n",
    "    return sum_sq\n"
   ]
  },
  {
   "cell_type": "code",
   "execution_count": 25,
   "id": "bf5cb7ee",
   "metadata": {},
   "outputs": [
    {
     "data": {
      "text/plain": [
       "16"
      ]
     },
     "execution_count": 25,
     "metadata": {},
     "output_type": "execute_result"
    }
   ],
   "source": [
    "x0=[1,5,5,1]\n",
    "obj_func(x0)"
   ]
  },
  {
   "cell_type": "code",
   "execution_count": 26,
   "id": "a2ab74de",
   "metadata": {},
   "outputs": [],
   "source": [
    "b=(1.0,5.0)\n",
    "bnds=(b,b,b,b)\n",
    "const1={'type':'ineq','fun':con1}\n",
    "const2={'type':'eq','fun':con2}\n",
    "const=[const1,const2]"
   ]
  },
  {
   "cell_type": "code",
   "execution_count": 27,
   "id": "4d683a36",
   "metadata": {},
   "outputs": [
    {
     "name": "stdout",
     "output_type": "stream",
     "text": [
      "     fun: 17.01401724563517\n",
      "     jac: array([14.57227015,  1.37940764,  2.37940764,  9.56415057])\n",
      " message: 'Optimization terminated successfully'\n",
      "    nfev: 25\n",
      "     nit: 5\n",
      "    njev: 5\n",
      "  status: 0\n",
      " success: True\n",
      "       x: array([1.        , 4.7429961 , 3.82115462, 1.37940765])\n"
     ]
    }
   ],
   "source": [
    "sol=minimize(obj_func,x0,method='SLSQP', \\\n",
    "             bounds=bnds,constraints=const)\n",
    "print(sol)"
   ]
  },
  {
   "cell_type": "code",
   "execution_count": 28,
   "id": "587351ec",
   "metadata": {},
   "outputs": [
    {
     "name": "stdout",
     "output_type": "stream",
     "text": [
      "[1.         4.7429961  3.82115462 1.37940765]\n"
     ]
    }
   ],
   "source": [
    "print(sol.x)"
   ]
  },
  {
   "cell_type": "code",
   "execution_count": 29,
   "id": "95c55b02",
   "metadata": {},
   "outputs": [
    {
     "name": "stdout",
     "output_type": "stream",
     "text": [
      "Success\n",
      "x=[6.00000025] y= -15.999999999999936\n"
     ]
    }
   ],
   "source": [
    "import scipy\n",
    "from scipy.optimize import minimize\n",
    "def f(x):\n",
    "    y=x**2-12*x+20\n",
    "    return y\n",
    "x_start=2.0\n",
    "result=scipy.optimize.minimize(f,x_start)\n",
    "if result.success:\n",
    "    \n",
    "    print('Success')\n",
    "    print(f\"x={result.x} y= {result.fun}\")\n",
    "else:\n",
    "    print(\"Sorry, could not find a minimun\")"
   ]
  },
  {
   "cell_type": "code",
   "execution_count": 30,
   "id": "4ef9bd28",
   "metadata": {},
   "outputs": [
    {
     "ename": "NameError",
     "evalue": "name 'x' is not defined",
     "output_type": "error",
     "traceback": [
      "\u001b[1;31m---------------------------------------------------------------------------\u001b[0m",
      "\u001b[1;31mNameError\u001b[0m                                 Traceback (most recent call last)",
      "Input \u001b[1;32mIn [30]\u001b[0m, in \u001b[0;36m<cell line: 1>\u001b[1;34m()\u001b[0m\n\u001b[1;32m----> 1\u001b[0m x1\u001b[38;5;241m=\u001b[39m\u001b[43mx\u001b[49m[\u001b[38;5;241m0\u001b[39m]\n\u001b[0;32m      2\u001b[0m x2\u001b[38;5;241m=\u001b[39mx[\u001b[38;5;241m1\u001b[39m]\n\u001b[0;32m      3\u001b[0m \u001b[38;5;28;01mdef\u001b[39;00m \u001b[38;5;21mobj_func\u001b[39m(x):\n",
      "\u001b[1;31mNameError\u001b[0m: name 'x' is not defined"
     ]
    }
   ],
   "source": [
    "x1=x[0]\n",
    "x2=x[1]\n",
    "def obj_func(x):\n",
    "    return x1**2+x1*x2\n",
    "def equality_constraint(x):\n",
    "    return x1**3+x1*x2-100\n",
    "def inequality_constraint(x):\n",
    "    return x1**2 +x2 -50"
   ]
  },
  {
   "cell_type": "code",
   "execution_count": null,
   "id": "707e2d7a",
   "metadata": {},
   "outputs": [],
   "source": []
  }
 ],
 "metadata": {
  "kernelspec": {
   "display_name": "Python 3 (ipykernel)",
   "language": "python",
   "name": "python3"
  },
  "language_info": {
   "codemirror_mode": {
    "name": "ipython",
    "version": 3
   },
   "file_extension": ".py",
   "mimetype": "text/x-python",
   "name": "python",
   "nbconvert_exporter": "python",
   "pygments_lexer": "ipython3",
   "version": "3.9.12"
  }
 },
 "nbformat": 4,
 "nbformat_minor": 5
}
