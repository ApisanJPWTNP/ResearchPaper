{
 "cells": [
  {
   "cell_type": "code",
   "execution_count": 82,
   "id": "3b4b02c4",
   "metadata": {},
   "outputs": [],
   "source": [
    "import datetime\n",
    "import pandas_datareader.data as web\n",
    "import matplotlib.pyplot as plt\n",
    "import numpy as np\n",
    "import talib as ta\n",
    "PreStock = 'OXY'\n",
    "BSyear,BSmonth,BSday= 2017,1,2\n",
    "Syear,Smonth,Sday= 2018,1,2\n",
    "Eyear,Emonth,Eday= 2018,12,31\n",
    "Sdate =\"%s-%s-%s\" % (Syear,Smonth,Sday)\n",
    "Edate =\"%s-%s-%s\" % (Eyear,Emonth,Eday)"
   ]
  },
  {
   "cell_type": "code",
   "execution_count": 83,
   "id": "0c9b1407-dbff-4c89-a126-cc7c0ddb7f4f",
   "metadata": {},
   "outputs": [],
   "source": [
    "start=datetime.datetime(Syear,Smonth,Sday)\n",
    "end=datetime.datetime(Eyear,Emonth,Eday)\n",
    "Stockdata=web.DataReader(PreStock,'yahoo',start,end)\n",
    "dfa1=Stockdata"
   ]
  },
  {
   "cell_type": "markdown",
   "id": "7700105c",
   "metadata": {},
   "source": [
    "## Data For Average Calculation"
   ]
  },
  {
   "cell_type": "code",
   "execution_count": 84,
   "id": "2a28f36d",
   "metadata": {
    "scrolled": true
   },
   "outputs": [],
   "source": [
    "start=datetime.datetime(BSyear,BSmonth,BSday)\n",
    "end=datetime.datetime(Eyear,Emonth,Eday)\n",
    "Stockdata=web.DataReader(PreStock,'yahoo',start,end)\n",
    "dfa1_all=Stockdata"
   ]
  },
  {
   "cell_type": "markdown",
   "id": "cdc767d4",
   "metadata": {},
   "source": [
    "# TREND INDICATORS"
   ]
  },
  {
   "cell_type": "markdown",
   "id": "df7ab683",
   "metadata": {},
   "source": [
    "## MA30"
   ]
  },
  {
   "cell_type": "code",
   "execution_count": 85,
   "id": "aae84d78",
   "metadata": {},
   "outputs": [],
   "source": [
    "MA30=ta.MA(dfa1_all['Close'], timeperiod=30, matype=0)\n",
    "MA30=MA30.loc[Sdate:Edate]\n",
    "MA30=MA30.array\n",
    "dfa1['MA30']=MA30"
   ]
  },
  {
   "cell_type": "markdown",
   "id": "859f8ead",
   "metadata": {},
   "source": [
    "## MA50"
   ]
  },
  {
   "cell_type": "code",
   "execution_count": 86,
   "id": "220ba4fa",
   "metadata": {},
   "outputs": [],
   "source": [
    "MA50=ta.MA(dfa1_all['Close'], timeperiod=50, matype=0)\n",
    "MA50=MA50.loc['2018-01-02':'2018-12-31']\n",
    "MA50=MA50.array\n",
    "dfa1['MA50']=MA50"
   ]
  },
  {
   "cell_type": "markdown",
   "id": "ee103354",
   "metadata": {},
   "source": [
    "## MA200"
   ]
  },
  {
   "cell_type": "code",
   "execution_count": 87,
   "id": "7cb88fee",
   "metadata": {},
   "outputs": [],
   "source": [
    "MA200=ta.MA(dfa1_all['Close'], timeperiod=200, matype=0)\n",
    "MA200=MA200.loc[Sdate:Edate]\n",
    "MA200=MA200.array\n",
    "dfa1['MA200']=MA200"
   ]
  },
  {
   "cell_type": "code",
   "execution_count": 88,
   "id": "6933418c",
   "metadata": {},
   "outputs": [],
   "source": [
    "def implement_ma_strategy(prices, data):    \n",
    "    buy_price = []\n",
    "    sell_price = []\n",
    "    ma_signal = []\n",
    "    signal = 0\n",
    "\n",
    "    for i in range(len(data)):\n",
    "        if data['MA30'][i] > data['MA200'][i]:\n",
    "            if signal != 1:\n",
    "                buy_price.append(prices[i])\n",
    "                sell_price.append(np.nan)\n",
    "                signal = 1\n",
    "                ma_signal.append(signal)\n",
    "            else:\n",
    "                buy_price.append(np.nan)\n",
    "                sell_price.append(np.nan)\n",
    "                ma_signal.append(0)\n",
    "        elif data['MA30'][i] < data['MA200'][i]:\n",
    "            if signal != -1:\n",
    "                buy_price.append(np.nan)\n",
    "                sell_price.append(prices[i])\n",
    "                signal = -1\n",
    "                ma_signal.append(signal)\n",
    "            else:\n",
    "                buy_price.append(np.nan)\n",
    "                sell_price.append(np.nan)\n",
    "                ma_signal.append(0)\n",
    "        else:\n",
    "            buy_price.append(np.nan)\n",
    "            sell_price.append(np.nan)\n",
    "            ma_signal.append(0)\n",
    "            \n",
    "    return buy_price, sell_price, ma_signal\n",
    "            \n",
    "buy_price, sell_price, ma30_200_signal = implement_ma_strategy(dfa1['Open'], dfa1)"
   ]
  },
  {
   "cell_type": "code",
   "execution_count": 89,
   "id": "76581e47",
   "metadata": {},
   "outputs": [],
   "source": [
    "def implement_ma_strategy(prices, data):    \n",
    "    buy_price = []\n",
    "    sell_price = []\n",
    "    ma_signal = []\n",
    "    signal = 0\n",
    "\n",
    "    for i in range(len(data)):\n",
    "        if data['MA50'][i] > data['MA200'][i]:\n",
    "            if signal != 1:\n",
    "                buy_price.append(prices[i])\n",
    "                sell_price.append(np.nan)\n",
    "                signal = 1\n",
    "                ma_signal.append(signal)\n",
    "            else:\n",
    "                buy_price.append(np.nan)\n",
    "                sell_price.append(np.nan)\n",
    "                ma_signal.append(0)\n",
    "        elif data['MA50'][i] < data['MA200'][i]:\n",
    "            if signal != -1:\n",
    "                buy_price.append(np.nan)\n",
    "                sell_price.append(prices[i])\n",
    "                signal = -1\n",
    "                ma_signal.append(signal)\n",
    "            else:\n",
    "                buy_price.append(np.nan)\n",
    "                sell_price.append(np.nan)\n",
    "                ma_signal.append(0)\n",
    "        else:\n",
    "            buy_price.append(np.nan)\n",
    "            sell_price.append(np.nan)\n",
    "            ma_signal.append(0)\n",
    "            \n",
    "    return buy_price, sell_price, ma_signal\n",
    "            \n",
    "buy_price, sell_price, ma50_200_signal = implement_ma_strategy(dfa1['Open'], dfa1)"
   ]
  },
  {
   "cell_type": "code",
   "execution_count": 90,
   "id": "7cbc307f",
   "metadata": {},
   "outputs": [],
   "source": [
    "def implement_ma_strategy(prices, data):    \n",
    "    buy_price = []\n",
    "    sell_price = []\n",
    "    ma_signal = []\n",
    "    signal = 0\n",
    "\n",
    "    for i in range(len(data)):\n",
    "        if data['MA30'][i] > data['MA50'][i]:\n",
    "            if signal != 1:\n",
    "                buy_price.append(prices[i])\n",
    "                sell_price.append(np.nan)\n",
    "                signal = 1\n",
    "                ma_signal.append(signal)\n",
    "            else:\n",
    "                buy_price.append(np.nan)\n",
    "                sell_price.append(np.nan)\n",
    "                ma_signal.append(0)\n",
    "        elif data['MA30'][i] < data['MA50'][i]:\n",
    "            if signal != -1:\n",
    "                buy_price.append(np.nan)\n",
    "                sell_price.append(prices[i])\n",
    "                signal = -1\n",
    "                ma_signal.append(signal)\n",
    "            else:\n",
    "                buy_price.append(np.nan)\n",
    "                sell_price.append(np.nan)\n",
    "                ma_signal.append(0)\n",
    "        else:\n",
    "            buy_price.append(np.nan)\n",
    "            sell_price.append(np.nan)\n",
    "            ma_signal.append(0)\n",
    "            \n",
    "    return buy_price, sell_price, ma_signal\n",
    "            \n",
    "buy_price, sell_price, ma30_50_signal = implement_ma_strategy(dfa1['Open'], dfa1)"
   ]
  },
  {
   "cell_type": "code",
   "execution_count": 91,
   "id": "19b3b946",
   "metadata": {},
   "outputs": [],
   "source": [
    "import pandas as pd\n",
    "signal={'ma30_50_signal':ma30_50_signal,'ma30_200_signal':ma30_200_signal,'ma50_200_signal':ma50_200_signal}\n",
    "df_signal=pd.DataFrame(signal)"
   ]
  },
  {
   "cell_type": "markdown",
   "id": "77a791d4-6fb8-4b6d-bfb2-da2f5a995579",
   "metadata": {},
   "source": [
    "OBV"
   ]
  },
  {
   "cell_type": "code",
   "execution_count": 92,
   "id": "df8c737d-d0a5-4e3d-9481-25ea67257180",
   "metadata": {},
   "outputs": [],
   "source": [
    "obv = ta.OBV(dfa1_all[\"Close\"], dfa1_all[\"Volume\"])\n",
    "obv_mean=obv.rolling(20).mean()\n",
    "obv_mean=obv_mean.loc[Sdate:Edate]\n",
    "obv=obv.loc[Sdate:Edate]"
   ]
  },
  {
   "cell_type": "code",
   "execution_count": 93,
   "id": "d7616246-6408-4645-850b-0b82c3106f42",
   "metadata": {},
   "outputs": [],
   "source": [
    "def implement_obv_strategy(data,data2):    \n",
    "    obv_signal = []\n",
    "    signal = 0\n",
    "    for i in range(len(data)):\n",
    "        if data2[i] > data[i]:\n",
    "            if signal != 1:\n",
    "                signal = 1\n",
    "                obv_signal.append(signal)\n",
    "            else:\n",
    "                obv_signal.append(0)\n",
    "        elif data2[i] < data[i]:\n",
    "            if signal != -1:\n",
    "                signal = -1\n",
    "                obv_signal.append(signal)\n",
    "            else:\n",
    "                obv_signal.append(0)\n",
    "        else:\n",
    "            obv_signal.append(0)\n",
    "    return  obv_signal\n",
    "obv_signal = implement_obv_strategy(obv_mean,obv)\n",
    "df_signal['Obv_signal']=obv_signal"
   ]
  },
  {
   "cell_type": "code",
   "execution_count": 94,
   "id": "7e795cc2",
   "metadata": {},
   "outputs": [],
   "source": [
    "MA100=ta.MA(dfa1_all['Close'], timeperiod=100, matype=0)\n",
    "MA100=MA100.loc[Sdate:Edate]\n",
    "MA100=MA100.array\n",
    "dfa1['MA100']=MA100"
   ]
  },
  {
   "cell_type": "code",
   "execution_count": 95,
   "id": "b318d513",
   "metadata": {},
   "outputs": [],
   "source": [
    "def implement_sma_strategy(prices, MA100):\n",
    "    buy_price = []\n",
    "    sell_price = []\n",
    "    signal = 0\n",
    "    sma100_signal=[]\n",
    "    \n",
    "    for i in range(len(prices)):\n",
    "        if prices[i]>MA100[i]:\n",
    "            signal = 1\n",
    "            sma100_signal.append(signal)\n",
    "        else:\n",
    "            signal=-1\n",
    "            sma100_signal.append(signal)\n",
    "    return sma100_signal\n",
    "            \n",
    "sma100_signal = implement_sma_strategy(dfa1['Close'], dfa1['MA100'])\n",
    "df_signal['sma100_signal']=sma100_signal"
   ]
  },
  {
   "cell_type": "markdown",
   "id": "65971b5c",
   "metadata": {},
   "source": [
    "## EMA30"
   ]
  },
  {
   "cell_type": "code",
   "execution_count": 96,
   "id": "47497bee",
   "metadata": {
    "scrolled": true
   },
   "outputs": [],
   "source": [
    "EMA30=ta.EMA(dfa1_all['Close'], timeperiod=30)\n",
    "EMA30=EMA30.loc[Sdate:Edate]\n",
    "EMA30=EMA30.array\n",
    "dfa1['EMA30']=EMA30"
   ]
  },
  {
   "cell_type": "markdown",
   "id": "7bd9f825",
   "metadata": {},
   "source": [
    "## EMA50"
   ]
  },
  {
   "cell_type": "code",
   "execution_count": 97,
   "id": "982f142b",
   "metadata": {},
   "outputs": [],
   "source": [
    "EMA50=ta.EMA(dfa1_all['Close'], timeperiod=50)\n",
    "EMA50=EMA50.loc[Sdate:Edate]\n",
    "EMA50=EMA50.array\n",
    "dfa1['EMA50']=EMA50"
   ]
  },
  {
   "cell_type": "markdown",
   "id": "db3e876c",
   "metadata": {},
   "source": [
    "## EMA200"
   ]
  },
  {
   "cell_type": "code",
   "execution_count": 98,
   "id": "23d2a70c",
   "metadata": {},
   "outputs": [],
   "source": [
    "EMA200=ta.EMA(dfa1_all['Close'], timeperiod=200)\n",
    "EMA200=EMA200.loc[Sdate:Edate]\n",
    "EMA200=EMA200.array\n",
    "dfa1['EMA200']=EMA200"
   ]
  },
  {
   "cell_type": "markdown",
   "id": "71e6fbcf",
   "metadata": {},
   "source": [
    "## MACD"
   ]
  },
  {
   "cell_type": "code",
   "execution_count": 99,
   "id": "539658fe",
   "metadata": {},
   "outputs": [],
   "source": [
    "macd, macdsignal, macdhist = ta.MACD(dfa1_all['Close'], fastperiod=12, slowperiod=26, signalperiod=9)\n",
    "MACD=macd.loc[Sdate:Edate]\n",
    "MACD=MACD.array\n",
    "dfa1['MACD']=MACD"
   ]
  },
  {
   "cell_type": "code",
   "execution_count": 100,
   "id": "f17228ce",
   "metadata": {},
   "outputs": [],
   "source": [
    "macd, macdsignal, macdhist = ta.MACD(dfa1['Close'], fastperiod=12, slowperiod=26, signalperiod=9)\n",
    "MACD=macd.loc[Sdate:Edate]\n",
    "dfa1['MACD']=MACD\n",
    "dfa1['macdsignal']=macdsignal\n",
    "dfa1['macdhist']=macdhist"
   ]
  },
  {
   "cell_type": "code",
   "execution_count": 101,
   "id": "e454cbde",
   "metadata": {},
   "outputs": [],
   "source": [
    "def implement_macd_strategy(prices, data):    \n",
    "    buy_price = []\n",
    "    sell_price = []\n",
    "    ma_signal = []\n",
    "    signal = 0\n",
    "\n",
    "    for i in range(len(data)):\n",
    "        if data['MACD'][i] > data['macdsignal'][i]:\n",
    "            if signal != 1:\n",
    "                buy_price.append(prices[i])\n",
    "                sell_price.append(np.nan)\n",
    "                signal = 1\n",
    "                ma_signal.append(signal)\n",
    "            else:\n",
    "                buy_price.append(np.nan)\n",
    "                sell_price.append(np.nan)\n",
    "                ma_signal.append(0)\n",
    "        elif data['MACD'][i] < data['macdsignal'][i]:\n",
    "            if signal != -1:\n",
    "                buy_price.append(np.nan)\n",
    "                sell_price.append(prices[i])\n",
    "                signal = -1\n",
    "                ma_signal.append(signal)\n",
    "            else:\n",
    "                buy_price.append(np.nan)\n",
    "                sell_price.append(np.nan)\n",
    "                ma_signal.append(0)\n",
    "        else:\n",
    "            buy_price.append(np.nan)\n",
    "            sell_price.append(np.nan)\n",
    "            ma_signal.append(0)\n",
    "            \n",
    "    return buy_price, sell_price, macd_signal\n",
    "            \n",
    "buy_price, sell_price, macd_signal = implement_ma_strategy(dfa1['Open'], dfa1)"
   ]
  },
  {
   "cell_type": "code",
   "execution_count": 102,
   "id": "8c4045b7",
   "metadata": {},
   "outputs": [],
   "source": [
    "df_signal['macd_signal']=macd_signal"
   ]
  },
  {
   "cell_type": "markdown",
   "id": "0e5e39d7",
   "metadata": {},
   "source": [
    "## PARABOLIC SAR"
   ]
  },
  {
   "cell_type": "code",
   "execution_count": 103,
   "id": "4e3d8296",
   "metadata": {},
   "outputs": [],
   "source": [
    "SAR=ta.SAR(dfa1_all['High'], dfa1_all['Low'], acceleration=0, maximum=0)\n",
    "SAR=SAR.loc[Sdate:Edate]\n",
    "SAR=SAR.array\n",
    "dfa1['SAR']=SAR"
   ]
  },
  {
   "cell_type": "markdown",
   "id": "aae7df49",
   "metadata": {},
   "source": [
    "# MOMENTUM"
   ]
  },
  {
   "cell_type": "markdown",
   "id": "d6be03e5",
   "metadata": {},
   "source": [
    "## AVERAGE DIRECTIONAL MOVEMENT INDEX(ADX)"
   ]
  },
  {
   "cell_type": "code",
   "execution_count": 104,
   "id": "79536390",
   "metadata": {},
   "outputs": [],
   "source": [
    "ADX=ta.ADX(dfa1_all['High'], dfa1_all['Low'], dfa1_all['Close'], timeperiod=14)\n",
    "ADX=ADX.loc[Sdate:Edate]\n",
    "ADX=ADX.array\n",
    "dfa1['ADX']=ADX"
   ]
  },
  {
   "cell_type": "code",
   "execution_count": 105,
   "id": "a5daa461",
   "metadata": {},
   "outputs": [],
   "source": [
    "plus_DMI = ta.PLUS_DM(dfa1_all['High'], dfa1_all['Low'], timeperiod=14)\n",
    "minus_DMI= ta.MINUS_DM(dfa1_all['High'], dfa1_all['Low'], timeperiod=14)\n",
    "plus_DMI=plus_DMI.loc[Sdate:Edate]\n",
    "minus_DMI=minus_DMI.loc[Sdate:Edate]\n",
    "plus_DMI=plus_DMI.array\n",
    "minus_DMI=minus_DMI.array\n",
    "dfa1['plus_DMI']=plus_DMI\n",
    "dfa1['minus_DMI']=minus_DMI"
   ]
  },
  {
   "cell_type": "code",
   "execution_count": 106,
   "id": "ef8aa858",
   "metadata": {},
   "outputs": [],
   "source": [
    "def implement_adx_strategy(prices, pdi, ndi, adx):\n",
    "    buy_price = []\n",
    "    sell_price = []\n",
    "    adx_signal = []\n",
    "    signal = 0\n",
    "    \n",
    "    for i in range(len(prices)):\n",
    "        if adx[i-1] < 25 and adx[i] > 25 and pdi[i] > ndi[i]:\n",
    "            if signal != 1:\n",
    "                buy_price.append(prices[i])\n",
    "                sell_price.append(np.nan)\n",
    "                signal = 1\n",
    "                adx_signal.append(signal)\n",
    "            else:\n",
    "                buy_price.append(np.nan)\n",
    "                sell_price.append(np.nan)\n",
    "                adx_signal.append(0)\n",
    "        elif adx[i-1] < 25 and adx[i] > 25 and ndi[i] > pdi[i]:\n",
    "            if signal != -1:\n",
    "                buy_price.append(np.nan)\n",
    "                sell_price.append(prices[i])\n",
    "                signal = -1\n",
    "                adx_signal.append(signal)\n",
    "            else:\n",
    "                buy_price.append(np.nan)\n",
    "                sell_price.append(np.nan)\n",
    "                adx_signal.append(0)\n",
    "        else:\n",
    "            buy_price.append(np.nan)\n",
    "            sell_price.append(np.nan)\n",
    "            adx_signal.append(0)\n",
    "            \n",
    "    return buy_price, sell_price, adx_signal\n",
    "\n",
    "buy_price, sell_price, adx_signal = implement_adx_strategy(dfa1['Close'], dfa1['plus_DMI'], dfa1['minus_DMI'], dfa1['ADX'])\n",
    "df_signal['adx_signal']=adx_signal"
   ]
  },
  {
   "cell_type": "markdown",
   "id": "18c01337",
   "metadata": {},
   "source": [
    "## STOCHASTIC OSCILLATOR(STO)"
   ]
  },
  {
   "cell_type": "code",
   "execution_count": 107,
   "id": "9a024b8a",
   "metadata": {},
   "outputs": [],
   "source": [
    "fastk, fastd = ta.STOCHRSI(dfa1_all['Close'], timeperiod=14, fastk_period=5, fastd_period=3, fastd_matype=0)\n",
    "K=fastk.loc[Sdate:Edate]\n",
    "K=K.array\n",
    "dfa1['%K']=K"
   ]
  },
  {
   "cell_type": "code",
   "execution_count": 108,
   "id": "a4b5f9c7",
   "metadata": {},
   "outputs": [],
   "source": [
    "D=fastd.loc[Sdate:Edate]\n",
    "D=D.array\n",
    "dfa1['%D']=D"
   ]
  },
  {
   "cell_type": "code",
   "execution_count": 109,
   "id": "28ebb7d2",
   "metadata": {},
   "outputs": [],
   "source": [
    "def implement_stoch_strategy (a,b,c):    \n",
    "    buy_price = []\n",
    "    sell_price = []\n",
    "    stoch_signal = []\n",
    "    signal = 0\n",
    "\n",
    "    for i in range(len(dfa1['Close'])):\n",
    "        k=dfa1['%K']\n",
    "        d=dfa1['%D']\n",
    "        if k[i] < 20 and d[i] < 20 and k[i] < d[i]:\n",
    "            if signal != 1:\n",
    "                buy_price.append(dfa1['Close'][i])\n",
    "                sell_price.append(np.nan)\n",
    "                signal = 1\n",
    "                stoch_signal.append(signal)\n",
    "            else:\n",
    "                buy_price.append(np.nan)\n",
    "                sell_price.append(np.nan)\n",
    "                stoch_signal.append(0)\n",
    "        elif k[i] > 80 and d[i] > 80 and k[i] > d[i]:\n",
    "            if signal != -1:\n",
    "                buy_price.append(np.nan)\n",
    "                sell_price.append(dfa1['Close'][i])\n",
    "                signal = -1\n",
    "                stoch_signal.append(signal)\n",
    "            else:\n",
    "                buy_price.append(np.nan)\n",
    "                sell_price.append(np.nan)\n",
    "                stoch_signal.append(0)\n",
    "        else:\n",
    "            buy_price.append(np.nan)\n",
    "            sell_price.append(np.nan)\n",
    "            stoch_signal.append(0)\n",
    "            \n",
    "    return buy_price, sell_price, stoch_signal\n",
    "            \n",
    "buy_price, sell_price, stoch_signal = implement_stoch_strategy(dfa1['Close'], dfa1['%K'], dfa1['%D'])\n"
   ]
  },
  {
   "cell_type": "code",
   "execution_count": 110,
   "id": "15786d0c",
   "metadata": {},
   "outputs": [],
   "source": [
    "df_signal['stoch_signal']=stoch_signal\n"
   ]
  },
  {
   "cell_type": "markdown",
   "id": "ed95204a",
   "metadata": {},
   "source": [
    "## RATE OF CHANGE"
   ]
  },
  {
   "cell_type": "code",
   "execution_count": 111,
   "id": "290ce3a9",
   "metadata": {},
   "outputs": [],
   "source": [
    "roc = ta.ROC(dfa1_all[\"Close\"], timeperiod=10)\n",
    "roc=roc.loc[Sdate:Edate]"
   ]
  },
  {
   "cell_type": "code",
   "execution_count": 112,
   "id": "754d1ba9-0693-4088-97ea-7df1d52892b7",
   "metadata": {},
   "outputs": [],
   "source": [
    "def implement_roc_strategy(data):    \n",
    "    roc_signal = []\n",
    "    signal = 0\n",
    "    for i in range(len(data)):\n",
    "        if data[i] > 0:\n",
    "            if signal != 1:\n",
    "                signal = 1\n",
    "                roc_signal.append(signal)\n",
    "            else:\n",
    "                roc_signal.append(0)\n",
    "        elif data[i] < 0:\n",
    "            if signal != -1:\n",
    "                signal = -1\n",
    "                roc_signal.append(signal)\n",
    "            else:\n",
    "                roc_signal.append(0)\n",
    "        else:\n",
    "            roc_signal.append(0)\n",
    "    return  roc_signal\n",
    "roc_signal = implement_roc_strategy(roc)\n",
    "df_signal['roc_signal']=roc_signal"
   ]
  },
  {
   "cell_type": "markdown",
   "id": "76918a80",
   "metadata": {},
   "source": [
    "## RSI"
   ]
  },
  {
   "cell_type": "code",
   "execution_count": 113,
   "id": "0cf93d58",
   "metadata": {},
   "outputs": [],
   "source": [
    "RSI = ta.RSI(dfa1_all['Close'], timeperiod=14)\n",
    "RSI=RSI.loc[Sdate:Edate]\n",
    "RSI=RSI.array\n",
    "dfa1['RSI']=RSI"
   ]
  },
  {
   "cell_type": "code",
   "execution_count": 114,
   "id": "ce4916cc",
   "metadata": {},
   "outputs": [],
   "source": [
    "def implement_rsi_strategy(prices, data):    \n",
    "    buy_price = []\n",
    "    sell_price = []\n",
    "    rsi_signal = []\n",
    "    signal = 0\n",
    "\n",
    "    for i in range(len(prices)):\n",
    "        if prices[i] <= 35:\n",
    "            if signal != 1:\n",
    "                buy_price.append(prices[i])\n",
    "                sell_price.append(np.nan)\n",
    "                signal = 1\n",
    "                rsi_signal.append(signal)\n",
    "            else:\n",
    "                buy_price.append(np.nan)\n",
    "                sell_price.append(np.nan)\n",
    "                rsi_signal.append(0)\n",
    "        elif prices[i] >= 70:\n",
    "            if signal != -1:\n",
    "                buy_price.append(np.nan)\n",
    "                sell_price.append(prices[i])\n",
    "                signal = -1\n",
    "                rsi_signal.append(signal)\n",
    "            else:\n",
    "                buy_price.append(np.nan)\n",
    "                sell_price.append(np.nan)\n",
    "                rsi_signal.append(0)\n",
    "        else:\n",
    "            buy_price.append(np.nan)\n",
    "            sell_price.append(np.nan)\n",
    "            rsi_signal.append(0)\n",
    "            \n",
    "    return buy_price, sell_price, rsi_signal\n",
    "            \n",
    "buy_price, sell_price, rsi_signal = implement_rsi_strategy(RSI, dfa1)"
   ]
  },
  {
   "cell_type": "code",
   "execution_count": 115,
   "id": "9ef0227a",
   "metadata": {},
   "outputs": [],
   "source": [
    "df_signal['rsi_signal']=rsi_signal"
   ]
  },
  {
   "cell_type": "markdown",
   "id": "527b81e1",
   "metadata": {},
   "source": [
    "## CCI"
   ]
  },
  {
   "cell_type": "code",
   "execution_count": 116,
   "id": "819fe096",
   "metadata": {},
   "outputs": [],
   "source": [
    "CCI=ta.CCI(dfa1_all['High'], dfa1_all['Low'], dfa1_all['Close'], timeperiod=14)\n",
    "CCI=CCI.loc[Sdate:Edate]\n",
    "CCI=CCI.array\n",
    "dfa1['CCI']=CCI"
   ]
  },
  {
   "cell_type": "code",
   "execution_count": 117,
   "id": "e5d599e7",
   "metadata": {},
   "outputs": [],
   "source": [
    "def implement_cci_strategy(a,b):\n",
    "    buy_price = []\n",
    "    sell_price = []\n",
    "    cci_signal = []\n",
    "    signal = 0\n",
    "    cci=CCI\n",
    "    \n",
    "    lower_band = (-100)\n",
    "    upper_band = 100\n",
    "    \n",
    "    for i in range(len(dfa1['Close'])):\n",
    "        if cci[i-1] > lower_band and cci[i] < lower_band:\n",
    "            if signal != 1:\n",
    "                buy_price.append(dfa1['Close'][i])\n",
    "                sell_price.append(np.nan)\n",
    "                signal = 1\n",
    "                cci_signal.append(signal)\n",
    "            else:\n",
    "                buy_price.append(np.nan)\n",
    "                sell_price.append(np.nan)\n",
    "                cci_signal.append(0)\n",
    "                \n",
    "        elif cci[i-1] < upper_band and cci[i] > upper_band:\n",
    "            if signal != -1:\n",
    "                buy_price.append(np.nan)\n",
    "                sell_price.append(dfa1['Close'][i])\n",
    "                signal = -1\n",
    "                cci_signal.append(signal)\n",
    "            else:\n",
    "                buy_price.append(np.nan)\n",
    "                sell_price.append(np.nan)\n",
    "                cci_signal.append(0)\n",
    "                \n",
    "        else:\n",
    "            buy_price.append(np.nan)\n",
    "            sell_price.append(np.nan)\n",
    "            cci_signal.append(0)\n",
    "            \n",
    "    return buy_price, sell_price, cci_signal\n",
    "\n",
    "buy_price, sell_price, cci_signal = implement_cci_strategy(dfa1['Close'], dfa1['CCI'])\n"
   ]
  },
  {
   "cell_type": "code",
   "execution_count": 118,
   "id": "dedb9545",
   "metadata": {},
   "outputs": [],
   "source": [
    "df_signal['cci_signal']=cci_signal"
   ]
  },
  {
   "cell_type": "markdown",
   "id": "1aad06cc",
   "metadata": {},
   "source": [
    "\n",
    "# VOLATILITY"
   ]
  },
  {
   "cell_type": "markdown",
   "id": "bd925fdf",
   "metadata": {},
   "source": [
    "## ATR"
   ]
  },
  {
   "cell_type": "code",
   "execution_count": 119,
   "id": "2886db00",
   "metadata": {},
   "outputs": [],
   "source": [
    "atr = ta.ATR(dfa1_all[\"High\"], dfa1_all[\"Low\"], dfa1_all[\"Close\"], timeperiod=14)\n",
    "atr = atr.loc[Sdate:Edate]"
   ]
  },
  {
   "cell_type": "code",
   "execution_count": 120,
   "id": "4fbe0fdd-31f2-4cd2-a542-48e7a3084c50",
   "metadata": {},
   "outputs": [],
   "source": [
    "def implement_atr_strategy(data,data2):    \n",
    "    atr_signal = []\n",
    "    signal = 0\n",
    "    for i in range(len(data)):\n",
    "        if data2[i] > 2*data[i]+data2[i-1] :\n",
    "            if signal != 1:\n",
    "                signal = 1\n",
    "                atr_signal.append(signal)\n",
    "            else:\n",
    "                atr_signal.append(0)\n",
    "        elif data2[i] < 2*data[i]+data2[i-1]:\n",
    "            if signal != -1:\n",
    "                signal = -1\n",
    "                atr_signal.append(signal)\n",
    "            else:\n",
    "                atr_signal.append(0)\n",
    "        else:\n",
    "            atr_signal.append(0)\n",
    "    return  atr_signal\n",
    "atr_signal = implement_atr_strategy(atr,dfa1[\"Close\"])\n",
    "df_signal['atr_signal']=atr_signal"
   ]
  },
  {
   "cell_type": "markdown",
   "id": "2d946848",
   "metadata": {},
   "source": [
    "## William %R"
   ]
  },
  {
   "cell_type": "code",
   "execution_count": 121,
   "id": "fe3e81a2",
   "metadata": {},
   "outputs": [],
   "source": [
    "wpr=ta.WILLR(dfa1_all[\"High\"],dfa1_all[\"Low\"],dfa1_all[\"Close\"],timeperiod=14)\n",
    "wpr=wpr.loc[Sdate:Edate]"
   ]
  },
  {
   "cell_type": "code",
   "execution_count": 122,
   "id": "e1d78ad1-3eaf-456f-b73b-83c2f67a8dc2",
   "metadata": {},
   "outputs": [],
   "source": [
    "def implement_wpr_strategy(data):    \n",
    "    wpr_signal = []\n",
    "    signal = 0\n",
    "    for i in range(len(data)):\n",
    "        if data[i] <= -80:\n",
    "            if signal != 1:\n",
    "                signal = 1\n",
    "                wpr_signal.append(signal)\n",
    "            else:\n",
    "                wpr_signal.append(0)\n",
    "        elif data[i] >= -20:\n",
    "            if signal != -1:\n",
    "                signal = -1\n",
    "                wpr_signal.append(signal)\n",
    "            else:\n",
    "                wpr_signal.append(0)\n",
    "        else:\n",
    "            wpr_signal.append(0)\n",
    "    return  wpr_signal\n",
    "wpr_signal = implement_wpr_strategy(wpr)\n",
    "df_signal['wpr_signal']=wpr_signal"
   ]
  },
  {
   "cell_type": "markdown",
   "id": "0fcee526",
   "metadata": {},
   "source": [
    "## Bollinger bands"
   ]
  },
  {
   "cell_type": "code",
   "execution_count": 123,
   "id": "690822ac",
   "metadata": {},
   "outputs": [],
   "source": [
    "upperband, middleband, lowerband = ta.BBANDS(dfa1_all['Close'], timeperiod=5, nbdevup=2, nbdevdn=2, matype=0)\n",
    "upperband, middleband, lowerband=upperband, middleband, lowerband.loc[Sdate:Edate]\n",
    "upperband, middleband, lowerband=upperband, middleband, lowerband.array\n",
    "dfa1['upperband']=upperband\n",
    "dfa1['middleband']=middleband\n",
    "dfa1['lowerband']=lowerband"
   ]
  },
  {
   "cell_type": "code",
   "execution_count": 130,
   "id": "f8f8cde6",
   "metadata": {},
   "outputs": [],
   "source": [
    "def implement_bb_strategy(a,b,c):\n",
    "    buy_price = []\n",
    "    sell_price = []\n",
    "    bb_signal = []\n",
    "    signal = 0\n",
    "    data=dfa1['Open']\n",
    "    lower_bb=dfa1['lowerband']\n",
    "    upper_bb=dfa1['upperband']\n",
    "    \n",
    "    for i in range(len(data)):\n",
    "        if data[i-1] > lower_bb[i-1] and data[i] < lower_bb[i]:\n",
    "            if signal != 1:\n",
    "                buy_price.append(data[i])\n",
    "                sell_price.append(np.nan)\n",
    "                signal = 1\n",
    "                bb_signal.append(signal)\n",
    "            else:\n",
    "                buy_price.append(np.nan)\n",
    "                sell_price.append(np.nan)\n",
    "                bb_signal.append(0)\n",
    "        elif data[i-1] < upper_bb[i-1] and data[i] > upper_bb[i]:\n",
    "            if signal != -1:\n",
    "                buy_price.append(np.nan)\n",
    "                sell_price.append(data[i])\n",
    "                signal = -1\n",
    "                bb_signal.append(signal)\n",
    "            else:\n",
    "                buy_price.append(np.nan)\n",
    "                sell_price.append(np.nan)\n",
    "                bb_signal.append(0)\n",
    "        else:\n",
    "            buy_price.append(np.nan)\n",
    "            sell_price.append(np.nan)\n",
    "            bb_signal.append(0)\n",
    "            \n",
    "    return buy_price, sell_price, bb_signal\n",
    "\n",
    "buy_price, sell_price, bb_signal = implement_bb_strategy(dfa1['Close'], dfa1['lowerband'], dfa1['upperband'])"
   ]
  },
  {
   "cell_type": "code",
   "execution_count": 125,
   "id": "df3046f3",
   "metadata": {},
   "outputs": [],
   "source": [
    "df_signal['bb_signal']=bb_signal"
   ]
  }
 ],
 "metadata": {
  "kernelspec": {
   "display_name": "Python 3 (ipykernel)",
   "language": "python",
   "name": "python3"
  },
  "language_info": {
   "codemirror_mode": {
    "name": "ipython",
    "version": 3
   },
   "file_extension": ".py",
   "mimetype": "text/x-python",
   "name": "python",
   "nbconvert_exporter": "python",
   "pygments_lexer": "ipython3",
   "version": "3.9.12"
  },
  "varInspector": {
   "cols": {
    "lenName": 16,
    "lenType": 16,
    "lenVar": 40
   },
   "kernels_config": {
    "python": {
     "delete_cmd_postfix": "",
     "delete_cmd_prefix": "del ",
     "library": "var_list.py",
     "varRefreshCmd": "print(var_dic_list())"
    },
    "r": {
     "delete_cmd_postfix": ") ",
     "delete_cmd_prefix": "rm(",
     "library": "var_list.r",
     "varRefreshCmd": "cat(var_dic_list()) "
    }
   },
   "types_to_exclude": [
    "module",
    "function",
    "builtin_function_or_method",
    "instance",
    "_Feature"
   ],
   "window_display": false
  }
 },
 "nbformat": 4,
 "nbformat_minor": 5
}
