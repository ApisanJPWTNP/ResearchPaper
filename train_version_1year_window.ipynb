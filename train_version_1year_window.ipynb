{
 "cells": [
  {
   "cell_type": "code",
   "execution_count": 1,
   "id": "2e00e795-ed6b-428d-96fb-4b892095aee3",
   "metadata": {},
   "outputs": [],
   "source": [
    "import numpy as np\n",
    "import pandas as pd\n",
    "data = pd.read_csv(\"AAPLtraining20182021aroon_signal.csv\")\n",
    "dt=data\n",
    "data.drop(data.columns[[0]],axis=1,inplace=True)\n",
    "window_size = int(len(data)/(12))\n",
    "splittrain = []\n",
    "splittest = [] \n",
    "for i in range(0, len(data)-3*window_size,window_size):\n",
    "    splittrain.append(data[i:i+3*window_size])\n",
    "    splittest.append(data[i+3*window_size:i+4*window_size])"
   ]
  },
  {
   "cell_type": "code",
   "execution_count": 2,
   "id": "9a971f59-88d4-4b81-9387-7e4032579360",
   "metadata": {},
   "outputs": [
    {
     "name": "stderr",
     "output_type": "stream",
     "text": [
      "C:\\Users\\ASUS\\anaconda3\\lib\\site-packages\\scipy\\__init__.py:146: UserWarning: A NumPy version >=1.16.5 and <1.23.0 is required for this version of SciPy (detected version 1.24.1\n",
      "  warnings.warn(f\"A NumPy version >={np_minversion} and <{np_maxversion}\"\n"
     ]
    }
   ],
   "source": [
    "from scipy.optimize import NonlinearConstraint, Bounds, LinearConstraint\n",
    "import sympy as sp\n",
    "w1=sp.symbols('w1')\n",
    "w2=sp.symbols('w2')\n",
    "w3=sp.symbols('w3')\n",
    "w4=sp.symbols('w4')\n",
    "w5=sp.symbols('w5')\n",
    "w6=sp.symbols('w6')\n",
    "w7=sp.symbols('w7')\n",
    "w8=sp.symbols('w8')\n",
    "w9=sp.symbols('w9')\n",
    "w10=sp.symbols('w10')\n",
    "td=sp.symbols('td')"
   ]
  },
  {
   "cell_type": "code",
   "execution_count": 3,
   "id": "ebf1cd6f-426b-4d62-bd19-21c485153fb1",
   "metadata": {},
   "outputs": [],
   "source": [
    "def const(p):\n",
    "    w1,w2,w3,w4,w5,w6,w7,w8,w9,w10,td = p\n",
    "    return w1+w2+w3+w4+w5+w6+w7+w8+w9+w10\n",
    "nlc = NonlinearConstraint(const, 1 ,1)\n",
    "import numpy as np\n",
    "from scipy.optimize import differential_evolution\n",
    "from scipy.optimize import NonlinearConstraint, Bounds\n",
    "\n",
    "bounds = [[0, 1], [0, 1],[0, 1], [0, 1],[0, 1],[0, 1],[0, 1], [0, 1],[0, 1],[0,1],[0,0.5]]"
   ]
  },
  {
   "cell_type": "code",
   "execution_count": 4,
   "id": "0f9283c9-6be3-4b7b-a609-fd286cd75caa",
   "metadata": {},
   "outputs": [],
   "source": [
    "coll=[]\n",
    "\n",
    "def func(p):\n",
    "    global S,B,resl,resfl\n",
    "    S=0\n",
    "    B=0\n",
    "    resl=[]\n",
    "    resfl=[]\n",
    "    w1,w2,w3,w4,w5,w6,w7,w8,w9,w10,td = p\n",
    "    mon=100000\n",
    "    amount=0\n",
    "    for i in range(0,len(dfo)):\n",
    "        r = ((w1*sl1[i]+w2*sl2[i]+w3*sl3[i]+w4*sl4[i]+w5*sl5[i]+w6*sl6[i]+w7*sl7[i]+w8*sl8[i]+w9*sl9[i]+w10*sl10[i])/(w1+w2+w3+w4+w5+w6+w7+w8+w9+w10))#w1=sp.symbols('w1')\n",
    "        if i!=0:\n",
    "            if dfo['adj_close_price'][i]<dfo['adj_close_price'][i-1]*0.8:\n",
    "                mon+=amount*dfo['adj_close_price'][i]*0.998\n",
    "                amount=0\n",
    "        if r>td:\n",
    "            sumall=mon//dfo['adj_close_price'][i]\n",
    "            amount+=sumall\n",
    "            mon-=sumall*dfo['adj_close_price'][i]*1.002\n",
    "            B+=1\n",
    "        elif r<-td:\n",
    "            mon+=amount*dfo['adj_close_price'][i]*0.998\n",
    "            amount=0\n",
    "            S+=1\n",
    "        else:\n",
    "            pass\n",
    "    ret=mon+amount*dfo['adj_close_price'][len(dfo)-1]\n",
    "    return -((ret-100000)/1000)\n",
    "def fobj():\n",
    "    global sl1,sl2,sl3,sl4,sl5,sl6,sl7,sl8,sl9,sl10,dfo\n",
    "    for i in range(len(splittrain)):\n",
    "        dfo=splittrain[i]\n",
    "        dfo=dfo.reset_index()\n",
    "        sl1=dfo['adx_signal']\n",
    "        sl2=dfo['macd_signal']\n",
    "        sl3=dfo['ma30_200_signal']\n",
    "        sl4=dfo['ma50_200_signal']\n",
    "        sl5=dfo['ma30_50_signal']\n",
    "        sl6=dfo['cdc_signal']\n",
    "        sl7=dfo['sar_signal']\n",
    "        sl8=dfo['roc_signal']\n",
    "        sl9=dfo['obv_signal']\n",
    "        sl10=dfo['aroon_signal']\n",
    "        result = differential_evolution(func, bounds,constraints=(nlc),maxiter=3000,popsize=80,recombination=0.8) \n",
    "        coll.append([result.x,result.fun,i])\n",
    "        print([result.x,result.fun,i])"
   ]
  },
  {
   "cell_type": "code",
   "execution_count": 5,
   "id": "a5ab617a-c509-42b0-ae09-d0603cf01574",
   "metadata": {},
   "outputs": [
    {
     "name": "stderr",
     "output_type": "stream",
     "text": [
      "C:\\Users\\ASUS\\anaconda3\\lib\\site-packages\\scipy\\optimize\\_hessian_update_strategy.py:182: UserWarning: delta_grad == 0.0. Check if the approximated function is linear. If the function is linear better results can be obtained by defining the Hessian as zero instead of using quasi-Newton approximations.\n",
      "  warn('delta_grad == 0.0. Check if the approximated '\n"
     ]
    },
    {
     "name": "stdout",
     "output_type": "stream",
     "text": [
      "[array([0.00823689, 0.0192555 , 0.02202766, 0.02077241, 0.07328736,\n",
      "       0.14109219, 0.18256548, 0.18339188, 0.00993072, 0.33943991,\n",
      "       0.40951515]), -25.31665767476654, 0]\n",
      "[array([2.40655715e-02, 4.40937276e-02, 5.79026521e-01, 6.65240139e-04,\n",
      "       1.32015451e-01, 3.65332879e-03, 7.12452061e-02, 1.41033377e-01,\n",
      "       2.53122868e-04, 3.94845325e-03, 1.41327365e-01]), -52.60192205867765, 1]\n",
      "[array([0.03129521, 0.23776522, 0.05020848, 0.00071569, 0.22383611,\n",
      "       0.00871994, 0.03055485, 0.02786417, 0.00710709, 0.38193326,\n",
      "       0.28738844]), -32.66131402299501, 2]\n",
      "[array([0.01489627, 0.25887311, 0.01830617, 0.02771553, 0.12664393,\n",
      "       0.17543021, 0.01214946, 0.34652774, 0.01826585, 0.00119173,\n",
      "       0.39915439]), -92.47480489048004, 3]\n",
      "[array([0.02501829, 0.01630218, 0.27540484, 0.04883642, 0.06156223,\n",
      "       0.12484324, 0.00681185, 0.05053434, 0.04291563, 0.34777096,\n",
      "       0.11370025]), -68.14266375263972, 4]\n",
      "[array([0.28785304, 0.08446956, 0.05142242, 0.11767819, 0.12475223,\n",
      "       0.00458413, 0.1280498 , 0.12180767, 0.01474206, 0.0646409 ,\n",
      "       0.21142072]), -151.2605075482788, 5]\n",
      "[array([0.0740647 , 0.13762836, 0.01938643, 0.02078453, 0.04050475,\n",
      "       0.13618151, 0.16283895, 0.00120937, 0.09951766, 0.30788376,\n",
      "       0.37371056]), -103.2199936023102, 6]\n",
      "[array([0.01229318, 0.0061175 , 0.0216247 , 0.51772099, 0.18211701,\n",
      "       0.04824257, 0.01278073, 0.03344487, 0.13022438, 0.03543408,\n",
      "       0.05796002]), -104.25588118766784, 7]\n",
      "[array([0.07825886, 0.00678235, 0.07912466, 0.07588943, 0.1219102 ,\n",
      "       0.12221649, 0.04216341, 0.0077544 , 0.17978016, 0.28612003,\n",
      "       0.10598812]), -47.38727474784848, 8]\n"
     ]
    }
   ],
   "source": [
    "fobj()"
   ]
  },
  {
   "cell_type": "code",
   "execution_count": 14,
   "id": "2a2a189b-b0fe-4da2-9959-554286af0a74",
   "metadata": {},
   "outputs": [
    {
     "data": {
      "text/plain": [
       "[0.06484591650995333,\n",
       " 0.09222527949152312,\n",
       " 0.108588505601103,\n",
       " 0.15866446400047962,\n",
       " 0.12097204050757362,\n",
       " 0.04523132611894158,\n",
       " 0.09779067856898607,\n",
       " 0.09265607638071012,\n",
       " 0.11661811760077426,\n",
       " 0.08960664581746089,\n",
       " 0.2284896772009782]"
      ]
     },
     "execution_count": 14,
     "metadata": {},
     "output_type": "execute_result"
    }
   ],
   "source": [
    "sum=0\n",
    "listna=[]\n",
    "for j in range(0,11): #เเต่ละ signal \n",
    "    for i in range(0,9): #เเต่ละ data\n",
    "        sum+=coll[i][0][j]\n",
    "    sum=sum/8\n",
    "    listna.append(sum)\n",
    "listna"
   ]
  }
 ],
 "metadata": {
  "kernelspec": {
   "display_name": "Python 3 (ipykernel)",
   "language": "python",
   "name": "python3"
  },
  "language_info": {
   "codemirror_mode": {
    "name": "ipython",
    "version": 3
   },
   "file_extension": ".py",
   "mimetype": "text/x-python",
   "name": "python",
   "nbconvert_exporter": "python",
   "pygments_lexer": "ipython3",
   "version": "3.9.12"
  }
 },
 "nbformat": 4,
 "nbformat_minor": 5
}
