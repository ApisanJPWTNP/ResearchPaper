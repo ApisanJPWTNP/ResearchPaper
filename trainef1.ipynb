{
 "cells": [
  {
   "cell_type": "code",
   "execution_count": 58,
   "id": "2e00e795-ed6b-428d-96fb-4b892095aee3",
   "metadata": {},
   "outputs": [],
   "source": [
    "import numpy as np\n",
    "import pandas as pd\n",
    "data = pd.read_csv(\"AMP_1417_year_testing_signal.csv\")\n",
    "dt=data\n",
    "data.drop(data.columns[[0]],axis=1,inplace=True)\n",
    "window_size = int(len(data)/(12))\n",
    "splittrain = []\n",
    "splittest = [] \n",
    "for i in range(0, len(data)-3*window_size,window_size):\n",
    "    splittrain.append(data[i:i+3*window_size])\n",
    "    splittest.append(data[i+3*window_size:i+4*window_size])"
   ]
  },
  {
   "cell_type": "code",
   "execution_count": 59,
   "id": "9a971f59-88d4-4b81-9387-7e4032579360",
   "metadata": {},
   "outputs": [],
   "source": [
    "from scipy.optimize import NonlinearConstraint, Bounds, LinearConstraint\n",
    "import sympy as sp\n",
    "w1=sp.symbols('w1')\n",
    "w2=sp.symbols('w2')\n",
    "w3=sp.symbols('w3')\n",
    "w4=sp.symbols('w4')\n",
    "w5=sp.symbols('w5')\n",
    "w6=sp.symbols('w6')\n",
    "w7=sp.symbols('w7')\n",
    "w8=sp.symbols('w8')\n",
    "w9=sp.symbols('w9')\n",
    "w10=sp.symbols('w10')\n",
    "td=sp.symbols('td')"
   ]
  },
  {
   "cell_type": "code",
   "execution_count": 60,
   "id": "ebf1cd6f-426b-4d62-bd19-21c485153fb1",
   "metadata": {},
   "outputs": [],
   "source": [
    "def const(p):\n",
    "    w1,w2,w3,w4,w5,w6,w7,w8,w9,w10,td = p\n",
    "    return w1+w2+w3+w4+w5+w6+w7+w8+w9+w10\n",
    "nlc = NonlinearConstraint(const, 1 ,1)\n",
    "import numpy as np\n",
    "from scipy.optimize import differential_evolution\n",
    "from scipy.optimize import NonlinearConstraint, Bounds\n",
    "\n",
    "bounds = [[0, 1], [0, 1],[0, 1], [0, 1],[0, 1],[0, 1],[0, 1], [0, 1],[0, 1],[0,1],[0.1,0.3]]"
   ]
  },
  {
   "cell_type": "code",
   "execution_count": 63,
   "id": "0f9283c9-6be3-4b7b-a609-fd286cd75caa",
   "metadata": {},
   "outputs": [],
   "source": [
    "coll=[]\n",
    "\n",
    "def func(p):\n",
    "    global S,B,resl,resfl\n",
    "    S=0\n",
    "    B=0\n",
    "    resl=[]\n",
    "    resfl=[]\n",
    "    w1,w2,w3,w4,w5,w6,w7,w8,w9,w10,td = p\n",
    "    mon=100000\n",
    "    amount=0\n",
    "    for i in range(0,len(dfo)):\n",
    "        r = ((w1*sl1[i]+w2*sl2[i]+w3*sl3[i]+w4*sl4[i]+w5*sl5[i]+w6*sl6[i]+w7*sl7[i]+w8*sl8[i]+w9*sl9[i]+w10*sl10[i])/(w1+w2+w3+w4+w5+w6+w7+w8+w9+w10))#w1=sp.symbols('w1')\n",
    "        if i!=0:\n",
    "            if dfo['adj_close_price'][i]<dfo['adj_close_price'][i-1]*0.8:\n",
    "                mon+=amount*dfo['adj_close_price'][i]*0.998\n",
    "                amount=0\n",
    "        if r>td:\n",
    "            sumall=mon//dfo['adj_close_price'][i]\n",
    "            amount+=sumall\n",
    "            mon-=sumall*dfo['adj_close_price'][i]*1.002\n",
    "            B+=1\n",
    "        elif r<-td:\n",
    "            mon+=amount*dfo['adj_close_price'][i]*0.998\n",
    "            amount=0\n",
    "            S+=1\n",
    "        else:\n",
    "            pass\n",
    "    ret=mon+amount*dfo['adj_close_price'][len(dfo)-1]\n",
    "    return -((ret-100000)/1000)\n",
    "def fobj():\n",
    "    global sl1,sl2,sl3,sl4,sl5,sl6,sl7,sl8,sl9,sl10,dfo\n",
    "    for i in range(len(splittrain)):\n",
    "        dfo=splittrain[i]\n",
    "        dfo=dfo.reset_index()\n",
    "        sl1=dfo['sma89_signal']\n",
    "        sl2=dfo['obv_macd_signal']\n",
    "        sl3=dfo['cdc_signal']\n",
    "        sl4=dfo['rsi_signal']\n",
    "        sl5=dfo['renko_signal']\n",
    "        sl6=dfo['sar_signal']\n",
    "        sl7=dfo['macd_signal']\n",
    "        sl8=dfo['stoch_signal']\n",
    "        sl9=dfo['obv_renko_signal']\n",
    "        sl10=dfo['aroon_signal']\n",
    "        result = differential_evolution(func, bounds,constraints=(nlc),maxiter=1500,popsize=80,recombination=0.8) \n",
    "        coll.append([result.x,result.fun,i])\n",
    "        print([result.x,result.fun,i])"
   ]
  },
  {
   "cell_type": "code",
   "execution_count": null,
   "id": "a5ab617a-c509-42b0-ae09-d0603cf01574",
   "metadata": {},
   "outputs": [
    {
     "name": "stderr",
     "output_type": "stream",
     "text": [
      "C:\\Users\\admin\\anaconda3\\lib\\site-packages\\scipy\\optimize\\_hessian_update_strategy.py:182: UserWarning: delta_grad == 0.0. Check if the approximated function is linear. If the function is linear better results can be obtained by defining the Hessian as zero instead of using quasi-Newton approximations.\n",
      "  warn('delta_grad == 0.0. Check if the approximated '\n"
     ]
    },
    {
     "name": "stdout",
     "output_type": "stream",
     "text": [
      "[array([0.02945284, 0.00828139, 0.00204002, 0.27377128, 0.15327345,\n",
      "       0.00139021, 0.1273217 , 0.16286514, 0.23828093, 0.00332305,\n",
      "       0.23549204]), -38.70596144947811, 0]\n"
     ]
    },
    {
     "name": "stderr",
     "output_type": "stream",
     "text": [
      "C:\\Users\\admin\\anaconda3\\lib\\site-packages\\scipy\\optimize\\_hessian_update_strategy.py:182: UserWarning: delta_grad == 0.0. Check if the approximated function is linear. If the function is linear better results can be obtained by defining the Hessian as zero instead of using quasi-Newton approximations.\n",
      "  warn('delta_grad == 0.0. Check if the approximated '\n"
     ]
    },
    {
     "name": "stdout",
     "output_type": "stream",
     "text": [
      "[array([0.10357693, 0.04645305, 0.16592389, 0.22912116, 0.12935752,\n",
      "       0.00348117, 0.00058312, 0.0592473 , 0.25658838, 0.00566747,\n",
      "       0.25394284]), -22.539937306259134, 1]\n"
     ]
    }
   ],
   "source": [
    "fobj()"
   ]
  },
  {
   "cell_type": "code",
   "execution_count": 9,
   "id": "80a2a690-5ca6-424d-bedf-c4e0840f1dea",
   "metadata": {},
   "outputs": [],
   "source": [
    "# coll=[[[0.04263765, 0.03200114, 0.18689841, 0.03773029, 0.23793109,\n",
    "#        0.01095693, 0.07052983, 0.13747363, 0.21490133, 0.02893969,\n",
    "#        0.15778144], -2.4148679161920734, 0],[[0.00508567, 0.22290138, 0.13188552, 0.02352498, 0.01663065,\n",
    "#        0.25654699, 0.01762978, 0.00709093, 0.04200914, 0.27669495,\n",
    "#        0.29228496], -9.259581701972959, 1],[[2.62633851e-02, 9.94222871e-02, 1.61019232e-01, 5.82161113e-02,\n",
    "#        4.13559710e-02, 1.25315050e-01, 2.53744866e-01, 2.91059673e-06,\n",
    "#        9.22130157e-02, 1.42447171e-01, 2.39721300e-01], -6.121406716396334, 2],[[0.20763139, 0.1209212 , 0.01621368, 0.00228032, 0.48842879,\n",
    "#        0.03037776, 0.00471495, 0.10393912, 0.01381456, 0.01167824,\n",
    "#        0.01565324], -3.563614563424111, 3],[[0.24676847, 0.32836361, 0.08917944, 0.02055559, 0.0315366 ,\n",
    "#        0.04207073, 0.05825432, 0.11477603, 0.05957919, 0.00891602,\n",
    "#        0.2281489 ], -10.296641040719987, 4],[[0.16981209, 0.01017315, 0.11840304, 0.18456988, 0.01390571,\n",
    "#        0.16116524, 0.27128156, 0.03019602, 0.0382175 , 0.00227582,w\n",
    "#        0.18791629], -27.166392313398347, 5],[[0.06566197, 0.31524175, 0.01362938, 0.15917822, 0.22829754,\n",
    "#        0.12369577, 0.00068402, 0.00278786, 0.06659127, 0.02423221,\n",
    "#        0.10757804], -24.964494178091044, 6],[[0.01514162, 0.01516319, 0.01013844, 0.06787496, 0.35482194,\n",
    "#        0.0129934 , 0.04135588, 0.03907753, 0.3917984 , 0.05163464,\n",
    "#        0.47176934], -32.49783417270184, 7],[[0.31102835, 0.10333422, 0.08929915, 0.06483643, 0.07079119,\n",
    "#        0.12810828, 0.01818048, 0.20357052, 0.00708476, 0.00376661,\n",
    "#        0.48838191], -154.12631921002955, 8],[[0.06164818, 0.04507739, 0.05719589, 0.01616532, 0.01107764,\n",
    "#        0.35146847, 0.03081691, 0.09092843, 0.02278727, 0.3128345 ,\n",
    "#        0.01960192], -225.35299462494942, 9]]"
   ]
  },
  {
   "cell_type": "code",
   "execution_count": 56,
   "id": "2a2a189b-b0fe-4da2-9959-554286af0a74",
   "metadata": {},
   "outputs": [
    {
     "data": {
      "text/plain": [
       "74.57310859519963"
      ]
     },
     "execution_count": 56,
     "metadata": {},
     "output_type": "execute_result"
    }
   ],
   "source": [
    "#test\n",
    "import pandas as pd\n",
    "sums=0\n",
    "listna=[]\n",
    "for j in range(0,11): #เเต่ละ signal \n",
    "    for i in range(0,10): #เเต่ละ data\n",
    "        sums+=coll[i][0][j]\n",
    "    sums=sums/10\n",
    "    listna.append(sums)\n",
    "tdna=listna[10]\n",
    "w=listna[0:10]\n",
    "dfo=pd.read_csv('AMP_1417_year_testing_signal.csv')\n",
    "count1,count2,count3=0,0,0\n",
    "decision_d_l=[]\n",
    "il=[]\n",
    "sell_idx,buy_idx=[],[]\n",
    "def testing(td,w,df):\n",
    "    global count1,count2,count3,sell_idx,buy_idx,sl1\n",
    "    mon=100000\n",
    "    amount=0\n",
    "    sumall=0\n",
    "    sl1=dfo['cdc_signal']\n",
    "    sl2=dfo['renko_signal']\n",
    "    sl3=dfo['aroon_signal']\n",
    "    sl4=dfo['ma30_50_signal']\n",
    "    sl5=dfo['macd_signal']\n",
    "    sl6=dfo['stoch_signal']\n",
    "    sl7=dfo['roc_signal']\n",
    "    sl8=dfo['sma89_signal']\n",
    "    sl9=dfo['psar_signal']\n",
    "    sl10=dfo['rsi_signal']\n",
    "    \n",
    "    for i in range(0,len(df)):\n",
    "        decision_d= ((w[0]*sl1[i]+w[1]*sl2[i]+w[2]*sl3[i]+w[3]*sl4[i]+w[4]*sl5[i]+w[5]*sl6[i]+w[6]*sl7[i]+w[7]*sl8[i]+w[8]*sl9[i]+w[9]*sl10[i])/sum(w))\n",
    "        if i!=0:\n",
    "            if df['adj_close_price'][i]<df['adj_close_price'][i-1]*0.2:\n",
    "                    mon+=amount*dfo['Close'][i]*0.998\n",
    "                    amount=0\n",
    "                    sell_idx.append(i)\n",
    "        if decision_d>td:\n",
    "            sumall=mon//df['adj_close_price'][i]\n",
    "            amount+=sumall\n",
    "            mon-=sumall*df['adj_close_price'][i]*1.002\n",
    "            count1+=1\n",
    "            buy_idx.append(i)\n",
    "        elif decision_d<-td:\n",
    "            mon+=amount*df['adj_close_price'][i]*0.998\n",
    "            amount=0\n",
    "            count2+=1\n",
    "            sell_idx.append(i)\n",
    "        else:\n",
    "            count3+=1\n",
    "        decision_d_l.append(mon+amount*df['adj_close_price'][i])\n",
    "        il.append(i)\n",
    "    ret=mon+amount*df['adj_close_price'][len(df)-1]\n",
    "    return (ret-100000)/1000\n",
    "testing(tdna,w,dfo)"
   ]
  },
  {
   "cell_type": "code",
   "execution_count": 28,
   "id": "e4b70293-834e-4f70-ae53-6341646d2697",
   "metadata": {},
   "outputs": [
    {
     "data": {
      "text/plain": [
       "[-32.394777581648256]"
      ]
     },
     "execution_count": 28,
     "metadata": {},
     "output_type": "execute_result"
    }
   ],
   "source": [
    "sums=0\n",
    "listna=[]\n",
    "for j in range(0,9): #เเต่ละ signal \n",
    "    sums+=coll[j][1]\n",
    "sums=sums/10\n",
    "listna.append(sums)\n",
    "listna"
   ]
  },
  {
   "cell_type": "code",
   "execution_count": 29,
   "id": "d7bef63d-99fa-43c0-ba4e-0cf0490b0bdd",
   "metadata": {},
   "outputs": [],
   "source": [
    "pass"
   ]
  },
  {
   "cell_type": "code",
   "execution_count": 57,
   "id": "695e5c66-4c4f-494f-bfbd-1b1769dc680d",
   "metadata": {},
   "outputs": [
    {
     "data": {
      "text/plain": [
       "[0.035994632371329265,\n",
       " 0.10533503080497372,\n",
       " 0.10140320346295233,\n",
       " 0.16092885025136075,\n",
       " 0.07099518345444612,\n",
       " 0.12369760657538573,\n",
       " 0.12156227159528432,\n",
       " 0.06637276161297831,\n",
       " 0.12106722742167245,\n",
       " 0.18337890920465533,\n",
       " 0.23056506221669032]"
      ]
     },
     "execution_count": 57,
     "metadata": {},
     "output_type": "execute_result"
    }
   ],
   "source": [
    "listna"
   ]
  },
  {
   "cell_type": "code",
   "execution_count": 55,
   "id": "290c6df0-ec07-4aee-907e-98e84f656b9a",
   "metadata": {},
   "outputs": [
    {
     "data": {
      "text/plain": [
       "63.968709125332744"
      ]
     },
     "execution_count": 55,
     "metadata": {},
     "output_type": "execute_result"
    }
   ],
   "source": [
    "(dfo['adj_close_price'][len(dfo)-1]-dfo['adj_close_price'][0])/dfo['adj_close_price'][0]*100"
   ]
  },
  {
   "cell_type": "code",
   "execution_count": 46,
   "id": "d6c5080e-9604-46ef-9027-ca5906c3207f",
   "metadata": {},
   "outputs": [
    {
     "data": {
      "text/plain": [
       "-16.202773888076802"
      ]
     },
     "execution_count": 46,
     "metadata": {},
     "output_type": "execute_result"
    }
   ],
   "source": [
    "#test\n",
    "import pandas as pd\n",
    "sums=0\n",
    "listna=[]\n",
    "for j in range(0,11): #เเต่ละ signal \n",
    "    for i in range(0,10): #เเต่ละ data\n",
    "        sums+=coll[i][0][j]\n",
    "    sums=sums/10\n",
    "    listna.append(sums)\n",
    "tdna=listna[10]\n",
    "w=listna[0:10]\n",
    "dfo=pd.read_csv('AMP_18_year_testing_signal.csv')\n",
    "count1,count2,count3=0,0,0\n",
    "decision_d_l=[]\n",
    "il=[]\n",
    "sell_idx,buy_idx=[],[]\n",
    "def testing(td,w,df):\n",
    "    global count1,count2,count3,sell_idx,buy_idx,sl1\n",
    "    mon=100000\n",
    "    amount=0\n",
    "    sumall=0\n",
    "    sl1=dfo['cdc_signal']\n",
    "    sl2=dfo['renko_signal']\n",
    "    sl3=dfo['aroon_signal']\n",
    "    sl4=dfo['ma30_50_signal']\n",
    "    sl5=dfo['macd_signal']\n",
    "    sl6=dfo['stoch_signal']\n",
    "    sl7=dfo['roc_signal']\n",
    "    sl8=dfo['sma89_signal']\n",
    "    sl9=dfo['psar_signal']\n",
    "    sl10=dfo['rsi_signal']\n",
    "    \n",
    "    for i in range(0,len(df)):\n",
    "        decision_d= ((w[0]*sl1[i]+w[1]*sl2[i]+w[2]*sl3[i]+w[3]*sl4[i]+w[4]*sl5[i]+w[5]*sl6[i]+w[6]*sl7[i]+w[7]*sl8[i]+w[8]*sl9[i]+w[9]*sl10[i])/sum(w))\n",
    "        if i!=0:\n",
    "            if df['adj_close_price'][i]<df['adj_close_price'][i-1]*0.8:\n",
    "                    mon+=amount*dfo['Close'][i]*0.998\n",
    "                    amount=0\n",
    "                    sell_idx.append(i)\n",
    "        if decision_d>td:\n",
    "            sumall=mon//df['adj_close_price'][i]\n",
    "            amount+=sumall\n",
    "            mon-=sumall*df['adj_close_price'][i]*1.002\n",
    "            count1+=1\n",
    "            buy_idx.append(i)\n",
    "        elif decision_d<-td:\n",
    "            mon+=amount*df['adj_close_price'][i]*0.998\n",
    "            amount=0\n",
    "            count2+=1\n",
    "            sell_idx.append(i)\n",
    "        else:\n",
    "            count3+=1\n",
    "        decision_d_l.append(mon+amount*df['adj_close_price'][i])\n",
    "        il.append(i)\n",
    "    ret=mon+amount*df['adj_close_price'][len(df)-1]\n",
    "    return (ret-100000)/1000\n",
    "testing(tdna,w,dfo)"
   ]
  },
  {
   "cell_type": "code",
   "execution_count": 45,
   "id": "7c003d0c-681f-469f-bf95-976276d0cbed",
   "metadata": {},
   "outputs": [
    {
     "data": {
      "text/plain": [
       "-37.726705749021846"
      ]
     },
     "execution_count": 45,
     "metadata": {},
     "output_type": "execute_result"
    }
   ],
   "source": [
    "(dfo['adj_close_price'][len(dfo)-1]-dfo['adj_close_price'][0])/dfo['adj_close_price'][0]*100\n"
   ]
  },
  {
   "cell_type": "code",
   "execution_count": 48,
   "id": "1099e0ed-ec69-450f-9b62-42f68d5ea8b1",
   "metadata": {},
   "outputs": [
    {
     "data": {
      "text/plain": [
       "[0.035994632371329265,\n",
       " 0.10533503080497372,\n",
       " 0.10140320346295233,\n",
       " 0.16092885025136075,\n",
       " 0.07099518345444612,\n",
       " 0.12369760657538573,\n",
       " 0.12156227159528432,\n",
       " 0.06637276161297831,\n",
       " 0.12106722742167245,\n",
       " 0.18337890920465533,\n",
       " 0.23056506221669032]"
      ]
     },
     "execution_count": 48,
     "metadata": {},
     "output_type": "execute_result"
    }
   ],
   "source": [
    "listna"
   ]
  },
  {
   "cell_type": "code",
   "execution_count": null,
   "id": "bf374f92-cb4c-44c5-90bb-e5f0f4547d64",
   "metadata": {},
   "outputs": [],
   "source": [
    "#BH 16 63.968709125332744\n",
    "#back 16 63.62782823098757\n",
    "#BH -37.726705749021846\n",
    "#Forward -27.7685447604065"
   ]
  },
  {
   "cell_type": "code",
   "execution_count": 19,
   "id": "68325892-1568-4fae-9fb2-f315c4c4304a",
   "metadata": {},
   "outputs": [],
   "source": [
    "listna=[0.035994632371329265,\n",
    " 0.10533503080497372,\n",
    " 0.10140320346295233,\n",
    " 0.16092885025136075,\n",
    " 0.07099518345444612,\n",
    " 0.12369760657538573,\n",
    " 0.12156227159528432,\n",
    " 0.06637276161297831,\n",
    " 0.12106722742167245,\n",
    " 0.18337890920465533,\n",
    " 0.23056506221669032]"
   ]
  },
  {
   "cell_type": "code",
   "execution_count": null,
   "id": "4fc5515c-6e97-4a01-b6e6-e87e97a68ca1",
   "metadata": {},
   "outputs": [],
   "source": []
  }
 ],
 "metadata": {
  "kernelspec": {
   "display_name": "Python 3 (ipykernel)",
   "language": "python",
   "name": "python3"
  },
  "language_info": {
   "codemirror_mode": {
    "name": "ipython",
    "version": 3
   },
   "file_extension": ".py",
   "mimetype": "text/x-python",
   "name": "python",
   "nbconvert_exporter": "python",
   "pygments_lexer": "ipython3",
   "version": "3.9.12"
  }
 },
 "nbformat": 4,
 "nbformat_minor": 5
}
