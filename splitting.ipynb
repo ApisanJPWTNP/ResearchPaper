{
 "cells": [
  {
   "cell_type": "code",
   "execution_count": 28,
   "id": "2e00e795-ed6b-428d-96fb-4b892095aee3",
   "metadata": {},
   "outputs": [],
   "source": [
    "import numpy as np\n",
    "import pandas as pd\n",
    "data = pd.read_csv(\"AMPtraining20182021aroon_signal.csv\")\n",
    "dt=data\n",
    "a=int(dt.shape[0]/2)\n",
    "data.drop(data.columns[[0]],axis=1,inplace=True)\n",
    "data=data.iloc[:a,:]\n",
    "window_size = 63\n",
    "splitstr = []\n",
    "splitste = []\n",
    "\n",
    "for i in range(window_size, len(data),21):\n",
    "    splitstr.append(data[i-window_size:i])\n",
    "    splitste.append(data[i:i+21])\n"
   ]
  },
  {
   "cell_type": "code",
   "execution_count": 29,
   "id": "9a971f59-88d4-4b81-9387-7e4032579360",
   "metadata": {},
   "outputs": [],
   "source": [
    "from scipy.optimize import NonlinearConstraint, Bounds, LinearConstraint\n",
    "import sympy as sp\n",
    "w1=sp.symbols('w1')\n",
    "w2=sp.symbols('w2')\n",
    "w3=sp.symbols('w3')\n",
    "w4=sp.symbols('w4')\n",
    "w5=sp.symbols('w5')\n",
    "w6=sp.symbols('w6')\n",
    "w7=sp.symbols('w7')\n",
    "w8=sp.symbols('w8')\n",
    "w9=sp.symbols('w9')\n",
    "w10=sp.symbols('w10')\n",
    "# w11=sp.symbols('w11')\n",
    "# w12=sp.symbols('w12')\n",
    "# w13=sp.symbols('w13')\n",
    "# w14=sp.symbols('w14')\n",
    "# w15=sp.symbols('w15')\n",
    "# w16=sp.symbols('w16')\n",
    "td=sp.symbols('td')"
   ]
  },
  {
   "cell_type": "code",
   "execution_count": 30,
   "id": "ebf1cd6f-426b-4d62-bd19-21c485153fb1",
   "metadata": {},
   "outputs": [],
   "source": [
    "def const(p):\n",
    "    w1,w2,w3,w4,w5,w6,w7,w8,w9,w10,td = p\n",
    "    return w1+w2+w3+w4+w5+w6+w7+w8+w9+w10\n",
    "nlc = NonlinearConstraint(const, 1 ,1)\n",
    "import numpy as np\n",
    "from scipy.optimize import differential_evolution\n",
    "from scipy.optimize import NonlinearConstraint, Bounds\n",
    "\n",
    "bounds = [[0, 1], [0, 1],[0, 1], [0, 1],[0, 1],[0, 1],[0, 1], [0, 1],[0, 1],[0,1],[0,0.5]]"
   ]
  },
  {
   "cell_type": "code",
   "execution_count": 31,
   "id": "0f9283c9-6be3-4b7b-a609-fd286cd75caa",
   "metadata": {},
   "outputs": [],
   "source": [
    "coll=[]\n",
    "dfo=splitstr[0]\n",
    "sl1=dfo['adx_signal']\n",
    "sl2=dfo['macd_signal']\n",
    "sl3=dfo['ma30_200_signal']\n",
    "sl4=dfo['ma50_200_signal']\n",
    "sl5=dfo['ma30_50_signal']\n",
    "sl6=dfo['cdc_signal']\n",
    "sl7=dfo['sar_signal']\n",
    "sl8=dfo['roc_signal']\n",
    "sl9=dfo['obv_signal']\n",
    "sl10=dfo['aroon_signal']\n",
    "def func(p):\n",
    "    global S,B\n",
    "    S=0\n",
    "    B=0\n",
    "    w1,w2,w3,w4,w5,w6,w7,w8,w9,w10,td = p\n",
    "    mon=100000\n",
    "    amount=0\n",
    "    for i in range(0,len(dfo)):\n",
    "        r = ((w1*sl1[i]+w2*sl2[i]+w3*sl3[i]+w4*sl4[i]+w5*sl5[i]+w6*sl6[i]+w7*sl7[i]+w8*sl8[i]+w9*sl9[i]+w10*sl10[i]\n",
    "              )/(w1+w2+w3+w4+w5+w6+w7+w8+w9+w10))#w1=sp.symbols('w1')\n",
    "        if i!=0:\n",
    "            if dfo['adj_close_price'][i]<dfo['adj_close_price'][i-1]*0.2:\n",
    "                mon+=amount*dfo['Close'][i]*0.998\n",
    "                amount=0\n",
    "        if r>td:\n",
    "            sumall=mon//dfo['adj_close_price'][i]\n",
    "            amount+=sumall\n",
    "            mon-=sumall*dfo['adj_close_price'][i]*1.002\n",
    "            B+=1\n",
    "        elif r<-td:\n",
    "            mon+=amount*dfo['adj_close_price'][i]*0.998\n",
    "            amount=0\n",
    "            S+=1\n",
    "        else:\n",
    "            pass\n",
    "    ret=mon+amount*dfo['adj_close_price'][len(dfo)-1]\n",
    "    return -((ret-100000)/1000)\n",
    "def fobj():\n",
    "    for i in range(len(splitstr)):\n",
    "        dfo=splitstr[i]\n",
    "        sl1=dfo['adx_signal']\n",
    "        sl2=dfo['macd_signal']\n",
    "        sl3=dfo['ma30_200_signal']\n",
    "        sl4=dfo['ma50_200_signal']\n",
    "        sl5=dfo['ma30_50_signal']\n",
    "        sl6=dfo['cdc_signal']\n",
    "        sl7=dfo['sar_signal']\n",
    "        sl8=dfo['roc_signal']\n",
    "        sl9=dfo['obv_signal']\n",
    "        sl10=dfo['aroon_signal']\n",
    "        result = differential_evolution(func, bounds,constraints=(nlc),maxiter=3000,popsize=100,recombination=0.8) \n",
    "        coll.append([result.x,result.fun,i])\n",
    "        print([result.x,result.fun,i])\n",
    "        \n"
   ]
  },
  {
   "cell_type": "code",
   "execution_count": null,
   "id": "a5ab617a-c509-42b0-ae09-d0603cf01574",
   "metadata": {},
   "outputs": [
    {
     "name": "stderr",
     "output_type": "stream",
     "text": [
      "C:\\Users\\admin\\anaconda3\\lib\\site-packages\\scipy\\optimize\\_hessian_update_strategy.py:182: UserWarning: delta_grad == 0.0. Check if the approximated function is linear. If the function is linear better results can be obtained by defining the Hessian as zero instead of using quasi-Newton approximations.\n",
      "  warn('delta_grad == 0.0. Check if the approximated '\n"
     ]
    },
    {
     "name": "stdout",
     "output_type": "stream",
     "text": [
      "[array([1.64895041e-02, 1.09496267e-02, 3.35516273e-03, 1.36261620e-01,\n",
      "       6.95995451e-01, 5.83998458e-02, 5.14402796e-02, 2.13722520e-02,\n",
      "       1.65744508e-04, 5.57051379e-03, 5.38039862e-02]), -4.263339029693598, 0]\n"
     ]
    }
   ],
   "source": [
    "fobj()"
   ]
  },
  {
   "cell_type": "code",
   "execution_count": null,
   "id": "f6555212-1380-4a58-a906-59d4c41be33a",
   "metadata": {},
   "outputs": [],
   "source": []
  }
 ],
 "metadata": {
  "kernelspec": {
   "display_name": "Python 3 (ipykernel)",
   "language": "python",
   "name": "python3"
  },
  "language_info": {
   "codemirror_mode": {
    "name": "ipython",
    "version": 3
   },
   "file_extension": ".py",
   "mimetype": "text/x-python",
   "name": "python",
   "nbconvert_exporter": "python",
   "pygments_lexer": "ipython3",
   "version": "3.9.12"
  }
 },
 "nbformat": 4,
 "nbformat_minor": 5
}
